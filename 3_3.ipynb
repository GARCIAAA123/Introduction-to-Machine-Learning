{
  "nbformat": 4,
  "nbformat_minor": 0,
  "metadata": {
    "colab": {
      "provenance": [],
      "include_colab_link": true
    },
    "kernelspec": {
      "name": "python3",
      "display_name": "Python 3"
    }
  },
  "cells": [
    {
      "cell_type": "markdown",
      "metadata": {
        "id": "view-in-github",
        "colab_type": "text"
      },
      "source": [
        "<a href=\"https://colab.research.google.com/github/GARCIAAA123/Introduction-to-Machine-Learning/blob/main/3_3.ipynb\" target=\"_parent\"><img src=\"https://colab.research.google.com/assets/colab-badge.svg\" alt=\"Open In Colab\"/></a>"
      ]
    },
    {
      "cell_type": "markdown",
      "metadata": {
        "id": "mP1FmVczV0uK"
      },
      "source": [
        "# **Introduction to Machine Learning Chapter 3.3**\n",
        "# **Multilayer Perceptron with Sigmoid function**\n",
        "---"
      ]
    },
    {
      "cell_type": "markdown",
      "source": [
        "## Import libraries"
      ],
      "metadata": {
        "id": "lPzElUZsM0nq"
      }
    },
    {
      "cell_type": "code",
      "source": [
        "import numpy as np                  # for scientific computing (e.g. culclations with array)\n",
        "import matplotlib.pyplot as plt     # for visualization"
      ],
      "metadata": {
        "id": "538oqIKRMzna"
      },
      "execution_count": null,
      "outputs": []
    },
    {
      "cell_type": "markdown",
      "metadata": {
        "id": "Bdi1h5p8GH36"
      },
      "source": [
        "## 【Note】Dot-product (inner-product) and Hadamard product in Python"
      ]
    },
    {
      "cell_type": "code",
      "metadata": {
        "id": "9ftu6vjQGOKw",
        "outputId": "e6cb9f80-e872-4178-bbc4-42920c38e2f6",
        "colab": {
          "base_uri": "https://localhost:8080/"
        }
      },
      "source": [
        "a = np.array([[1,2,3],\n",
        "              [4,5,6]])\n",
        "\n",
        "b = np.array([[2,2,2],\n",
        "              [3,3,3]])\n",
        "\n",
        "# Hadamard product\n",
        "print(\"a * b =\\n\", a*b)\n",
        "print()\n",
        "\n",
        "# T attribute is the transpose of the array. b.T means the transpose of the array b.\n",
        "print(\"b.T =\\n\", b.T)\n",
        "print()\n",
        "\n",
        "# Dot-product of a and b.T\n",
        "print(\"np.dot(a, b.T) =\\n\", np.dot(a, b.T))\n",
        "print()"
      ],
      "execution_count": null,
      "outputs": [
        {
          "output_type": "stream",
          "name": "stdout",
          "text": [
            "a * b =\n",
            " [[ 2  4  6]\n",
            " [12 15 18]]\n",
            "\n",
            "b.T =\n",
            " [[2 3]\n",
            " [2 3]\n",
            " [2 3]]\n",
            "\n",
            "np.dot(a, b.T) =\n",
            " [[12 18]\n",
            " [30 45]]\n",
            "\n"
          ]
        }
      ]
    },
    {
      "cell_type": "markdown",
      "metadata": {
        "id": "CJ4WMpxUF7KT"
      },
      "source": [
        "## **Example** 3.3.1 Linear class and Sigmoid class"
      ]
    },
    {
      "cell_type": "code",
      "source": [
        "class Linear:\n",
        "  def __init__(self, w, b):\n",
        "    self.w = w    # weight\n",
        "    self.b = b    # bias\n",
        "\n",
        "  def forward(self, x):\n",
        "    p = np.dot(x, self.w) + self.b\n",
        "    return p\n",
        "\n",
        "class Sigmoid:\n",
        "  def forward(self, x):\n",
        "    y = 1 / (1 + np.exp(-x))\n",
        "    return y"
      ],
      "metadata": {
        "id": "G31s_qDJ540w"
      },
      "execution_count": null,
      "outputs": []
    },
    {
      "cell_type": "code",
      "metadata": {
        "id": "uxpvynu1KTe5",
        "outputId": "e47a1ea9-a251-4c06-b797-338eb3ce6c93",
        "colab": {
          "base_uri": "https://localhost:8080/"
        }
      },
      "source": [
        "x = np.array([[0,0],\n",
        "              [0,1],\n",
        "              [1,0],\n",
        "              [1,1]])\n",
        "w = np.array([[2],\n",
        "              [2]])\n",
        "b = np.array([-3])\n",
        "\n",
        "# create instances\n",
        "linear = Linear(w,b)\n",
        "sigmoid = Sigmoid()\n",
        "\n",
        "\n",
        "# forward calculation\n",
        "p = linear.forward(x)\n",
        "y = sigmoid.forward(p) # Using sigmoid class insted of Step class\n",
        "\n",
        "# print x (input array) and y (output array)\n",
        "print(\"x=\\n\", x)\n",
        "print(\"y=\\n\", y)"
      ],
      "execution_count": null,
      "outputs": [
        {
          "output_type": "stream",
          "name": "stdout",
          "text": [
            "x=\n",
            " [[0 0]\n",
            " [0 1]\n",
            " [1 0]\n",
            " [1 1]]\n",
            "y=\n",
            " [[0.04742587]\n",
            " [0.26894142]\n",
            " [0.26894142]\n",
            " [0.73105858]]\n"
          ]
        }
      ]
    },
    {
      "cell_type": "markdown",
      "metadata": {
        "id": "sN2Xh5Y2NoEy"
      },
      "source": [
        "## 🤔 **Exercise 3.3**"
      ]
    },
    {
      "cell_type": "code",
      "metadata": {
        "id": "jTxvV28bNqOG",
        "outputId": "451869aa-c4c7-45d0-9463-3277ef454166",
        "colab": {
          "base_uri": "https://localhost:8080/"
        }
      },
      "source": [
        "x = [[1,1,1],\n",
        "    [0,1,0],\n",
        "    [1,0,0],\n",
        "    [1,0,1]]\n",
        "\n",
        "w = [[-2,1,0,1],\n",
        "     [0,1,-2,1],\n",
        "     [1,0,1,1]]\n",
        "\n",
        "b = [[-2,1,0,-1]]\n",
        "\n",
        "u =[[4,1],\n",
        "    [2,3],\n",
        "    [0,1],\n",
        "    [3,1]]\n",
        "\n",
        "c =[[-2,-4]]\n",
        "\n",
        "# create instances\n",
        "linear1 = Linear(w, b)\n",
        "sigmoid = Sigmoid()\n",
        "linear2 = Linear(u, c)\n",
        "\n",
        "# forward calculation\n",
        "p = linear1.forward(x)\n",
        "y = sigmoid.forward(p)\n",
        "t = linear.forward(y)\n",
        "z = sigmoid.forward(t)\n",
        "\n",
        "# print x (input array) and y (output array)\n",
        "print(\"x=\\n\", x)\n",
        "print(\"y=\\n\", y)"
      ],
      "execution_count": null,
      "outputs": [
        {
          "output_type": "stream",
          "name": "stdout",
          "text": [
            "x=\n",
            " [[1, 1, 1], [0, 1, 0], [1, 0, 0], [1, 0, 1]]\n",
            "y=\n",
            " [[0.04742587 0.95257413 0.26894142 0.88079708]\n",
            " [0.11920292 0.88079708 0.11920292 0.5       ]\n",
            " [0.01798621 0.88079708 0.5        0.5       ]\n",
            " [0.04742587 0.88079708 0.73105858 0.73105858]]\n"
          ]
        }
      ]
    }
  ]
}