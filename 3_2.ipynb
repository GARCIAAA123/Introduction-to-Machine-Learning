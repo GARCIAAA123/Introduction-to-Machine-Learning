{
  "nbformat": 4,
  "nbformat_minor": 0,
  "metadata": {
    "colab": {
      "provenance": [],
      "include_colab_link": true
    },
    "kernelspec": {
      "name": "python3",
      "display_name": "Python 3"
    }
  },
  "cells": [
    {
      "cell_type": "markdown",
      "metadata": {
        "id": "view-in-github",
        "colab_type": "text"
      },
      "source": [
        "<a href=\"https://colab.research.google.com/github/GARCIAAA123/Introduction-to-Machine-Learning/blob/main/3_2.ipynb\" target=\"_parent\"><img src=\"https://colab.research.google.com/assets/colab-badge.svg\" alt=\"Open In Colab\"/></a>"
      ]
    },
    {
      "cell_type": "markdown",
      "metadata": {
        "id": "mP1FmVczV0uK"
      },
      "source": [
        "# **Introduction to Machine Learning Chapter 3.2**\n",
        "# **Understanding neurons with linear algebra**\n",
        "---"
      ]
    },
    {
      "cell_type": "markdown",
      "metadata": {
        "id": "FCAr-Q8FF7O9"
      },
      "source": [
        "## 🤔 **Exercise 3.2.1**\n",
        "\n",
        "(1) C\n",
        "\n",
        "(2) B\n",
        "\n",
        "(3) E\n",
        "\n",
        "(4) A"
      ]
    },
    {
      "cell_type": "markdown",
      "source": [
        "## 🤔 **Exercise 3.2.2**\n",
        "\n",
        "(1) $w_1$ = 2 ,   $w_2$ = 4,   $b$ = -6√5\n",
        "\n",
        "(2) $w_1$ = -4 ,   $w_2$ = -3 ,   $b$ = -12.5\n",
        "\n",
        "(3) $w_1$ = 4 ,   $w_2$ = 3 ,   $b$ = 12.5"
      ],
      "metadata": {
        "id": "uzUaLDVxfNIy"
      }
    }
  ]
}