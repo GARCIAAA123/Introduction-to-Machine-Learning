{
  "nbformat": 4,
  "nbformat_minor": 0,
  "metadata": {
    "kernelspec": {
      "display_name": "Python 3",
      "language": "python",
      "name": "python3"
    },
    "language_info": {
      "codemirror_mode": {
        "name": "ipython",
        "version": 3
      },
      "file_extension": ".py",
      "mimetype": "text/x-python",
      "name": "python",
      "nbconvert_exporter": "python",
      "pygments_lexer": "ipython3",
      "version": "3.7.3"
    },
    "colab": {
      "provenance": [],
      "include_colab_link": true
    }
  },
  "cells": [
    {
      "cell_type": "markdown",
      "metadata": {
        "id": "view-in-github",
        "colab_type": "text"
      },
      "source": [
        "<a href=\"https://colab.research.google.com/github/GARCIAAA123/Introduction-to-Machine-Learning/blob/main/5_1.ipynb\" target=\"_parent\"><img src=\"https://colab.research.google.com/assets/colab-badge.svg\" alt=\"Open In Colab\"/></a>"
      ]
    },
    {
      "cell_type": "markdown",
      "metadata": {
        "id": "BXiSZ978N4kT"
      },
      "source": [
        "# **Introduction to Machine Learning Chapter 5.1**\n",
        "# **Multiclass classification using neural network**\n",
        "---"
      ]
    },
    {
      "cell_type": "markdown",
      "source": [
        "## inport libraries"
      ],
      "metadata": {
        "id": "gsg6-6t0TVvV"
      }
    },
    {
      "cell_type": "code",
      "source": [
        "import numpy as np                  # for scientific computing (e.g. culclations with array)\n",
        "import pandas as pd                 # for data manipulation and analysis\n",
        "import matplotlib.pyplot as plt     # for visualization\n",
        "\n",
        "np.set_printoptions(suppress=True)  # If True, always print floating point numbers using fixed point notation. If False, then scientific notation is used.\n",
        "np.set_printoptions(precision=3, floatmode='fixed')"
      ],
      "metadata": {
        "id": "sSUkVkHRTUYY"
      },
      "execution_count": null,
      "outputs": []
    },
    {
      "cell_type": "markdown",
      "metadata": {
        "id": "Amx8O9xBN7-m"
      },
      "source": [
        "---\n",
        "# **Softmax function**\n",
        "---"
      ]
    },
    {
      "cell_type": "markdown",
      "source": [
        "## **Example 5.1.1** Example of softmax function"
      ],
      "metadata": {
        "id": "n_9hUeIOmLFI"
      }
    },
    {
      "cell_type": "code",
      "source": [
        "x = np.array([2.6, 4.3, -1.7])\n",
        "\n",
        "y = np.exp(x) / np.sum( np.exp(x) )\n",
        "sum_y = np.sum(y)\n",
        "\n",
        "print(\"y = \", y)\n",
        "print(\"sum(y) = \", sum_y)"
      ],
      "metadata": {
        "id": "SJ6bpNkdmLuA",
        "outputId": "2ad850ea-5e65-44a7-a290-f991ca4dba50",
        "colab": {
          "base_uri": "https://localhost:8080/"
        }
      },
      "execution_count": null,
      "outputs": [
        {
          "output_type": "stream",
          "name": "stdout",
          "text": [
            "y =  [0.154 0.844 0.002]\n",
            "sum(y) =  0.9999999999999999\n"
          ]
        }
      ]
    },
    {
      "cell_type": "markdown",
      "source": [
        "## **Example 5.1.2** Implementation of Softmax function"
      ],
      "metadata": {
        "id": "XMWjB7rcic4w"
      }
    },
    {
      "cell_type": "code",
      "source": [
        "# matrix compatible version\n",
        "def softmax(x):\n",
        "    max_x = np.max(x, axis=-1, keepdims=True)\n",
        "    exp_x = np.exp(x - max_x)                           # overflow protection\n",
        "    y = exp_x / np.sum(exp_x, axis=-1, keepdims=True)\n",
        "    return y"
      ],
      "metadata": {
        "id": "ISZoiFyoibTM"
      },
      "execution_count": null,
      "outputs": []
    },
    {
      "cell_type": "markdown",
      "source": [
        "Example of using softmax function"
      ],
      "metadata": {
        "id": "XdxTXUJQCidy"
      }
    },
    {
      "cell_type": "code",
      "source": [
        "x = np.array([1, 2, 3, 4, 5, 6])\n",
        "y = np.array([-0.3, 1.6, 3.0, 0.0, -4.3, 0.6])\n",
        "softmax_y = softmax(y)\n",
        "print(\"y =\", y)\n",
        "print(\"softmax_y =\", softmax_y)\n",
        "print('sum(softmax_y)=', np.sum(softmax_y))\n",
        "\n",
        "# draw the input graph\n",
        "plt.bar(x, y)\n",
        "plt.xlabel(\"x\")\n",
        "plt.ylabel(\"y\")\n",
        "plt.show()\n",
        "\n",
        "# draw the input graph\n",
        "plt.bar(x, softmax_y)\n",
        "plt.xlabel(\"x\")\n",
        "plt.ylabel(\"Softmax(y)\")\n",
        "plt.show()"
      ],
      "metadata": {
        "id": "aIkB6lrKdM2X",
        "outputId": "794f9775-bb4d-4a30-c5df-36b4f2738c5f",
        "colab": {
          "base_uri": "https://localhost:8080/",
          "height": 952
        }
      },
      "execution_count": null,
      "outputs": [
        {
          "output_type": "stream",
          "name": "stdout",
          "text": [
            "y = [-0.300  1.600  3.000  0.000 -4.300  0.600]\n",
            "softmax_y = [0.026 0.173 0.702 0.035 0.000 0.064]\n",
            "sum(softmax_y)= 1.0000000000000002\n"
          ]
        },
        {
          "output_type": "display_data",
          "data": {
            "text/plain": [
              "<Figure size 640x480 with 1 Axes>"
            ],
            "image/png": "[encoded data removed]"
          },
          "metadata": {}
        },
        {
          "output_type": "display_data",
          "data": {
            "text/plain": [
              "<Figure size 640x480 with 1 Axes>"
            ],
            "image/png": "[encoded data removed]"
          },
          "metadata": {}
        }
      ]
    },
    {
      "cell_type": "markdown",
      "source": [
        "## **[Appendix]** Overflow protection for Softmax function"
      ],
      "metadata": {
        "id": "eTfOw0v6k8vB"
      }
    },
    {
      "cell_type": "code",
      "source": [
        "x = np.array([10, 2000, -3])\n",
        "y = np.exp(x) / np.sum( np.exp(x) )\n",
        "# y = softmax(x)                      # with overflow protection"
      ],
      "metadata": {
        "id": "bpvYCnBerWqu",
        "outputId": "9c23aff2-3e11-4554-b6cb-457687d36334",
        "colab": {
          "base_uri": "https://localhost:8080/"
        }
      },
      "execution_count": null,
      "outputs": [
        {
          "output_type": "stream",
          "name": "stderr",
          "text": [
            "<ipython-input-5-b96864c58dc3>:2: RuntimeWarning: overflow encountered in exp\n",
            "  y = np.exp(x) / np.sum( np.exp(x) )\n",
            "<ipython-input-5-b96864c58dc3>:2: RuntimeWarning: invalid value encountered in divide\n",
            "  y = np.exp(x) / np.sum( np.exp(x) )\n"
          ]
        }
      ]
    },
    {
      "cell_type": "markdown",
      "source": [
        "## **[Appendix]** Softmax function for matrices"
      ],
      "metadata": {
        "id": "Le7zGtdNuAoQ"
      }
    },
    {
      "cell_type": "code",
      "source": [
        "import numpy as np\n",
        "\n",
        "y = np.array([[3, 2, -1],\n",
        "             [-2, 5, 3],\n",
        "             [1, 0, -3]])\n",
        "\n",
        "softmax_y = softmax(y)\n",
        "\n",
        "print(\"y=\\n\", y)\n",
        "print(\"softmax_y=\\n\", softmax_y)"
      ],
      "metadata": {
        "id": "9BFsNEjYygW8",
        "outputId": "41a83ed0-f9cd-46f1-b686-f53299c40424",
        "colab": {
          "base_uri": "https://localhost:8080/"
        }
      },
      "execution_count": null,
      "outputs": [
        {
          "output_type": "stream",
          "name": "stdout",
          "text": [
            "y=\n",
            " [[ 3  2 -1]\n",
            " [-2  5  3]\n",
            " [ 1  0 -3]]\n",
            "softmax_y=\n",
            " [[0.721 0.265 0.013]\n",
            " [0.001 0.880 0.119]\n",
            " [0.721 0.265 0.013]]\n"
          ]
        }
      ]
    },
    {
      "cell_type": "markdown",
      "source": [
        "---\n",
        "# **Softmax with Cross-entropy**\n",
        "---"
      ],
      "metadata": {
        "id": "FzjsLagDo9tC"
      }
    },
    {
      "cell_type": "markdown",
      "source": [
        "## **Example 5.1.3** Implementation of Softmax with Cross-entropy class"
      ],
      "metadata": {
        "id": "lqli-4LRperF"
      }
    },
    {
      "cell_type": "code",
      "source": [
        "class SoftmaxWithCrossEntropy:\n",
        "    def __init__(self):\n",
        "        self.loss = None\n",
        "        self.y = None # output of softmax\n",
        "        self.t = None # labels\n",
        "\n",
        "    def forward(self, x, t):\n",
        "        self.t = t\n",
        "        self.y = self.softmax(x)\n",
        "        self.loss = self.cross_entropy_error(self.y, self.t)\n",
        "        return self.loss\n",
        "\n",
        "    def backward(self, dout=1):\n",
        "        input_size = self.t.shape[0]\n",
        "        dx = (self.y - self.t) / input_size\n",
        "        return dx\n",
        "\n",
        "    def softmax(self, x):\n",
        "        max_x = np.max(x, axis=-1, keepdims=True)\n",
        "        exp_x = np.exp(x - max_x)  # overflow protection\n",
        "        y = exp_x / np.sum(exp_x, axis=-1, keepdims=True)\n",
        "        return y\n",
        "\n",
        "    def cross_entropy_error(self, y, t):\n",
        "        delta = 1e-7\n",
        "        return -np.sum(t * np.log(y + delta))"
      ],
      "metadata": {
        "id": "pJ909hbrtIQx"
      },
      "execution_count": null,
      "outputs": []
    },
    {
      "cell_type": "markdown",
      "source": [
        "---\n",
        "# **Classification for Iris dataset**\n",
        "---"
      ],
      "metadata": {
        "id": "j1SFwr60huGQ"
      }
    },
    {
      "cell_type": "markdown",
      "source": [
        "## **Example 5.1.4** Preparation of the Iris dataset"
      ],
      "metadata": {
        "id": "VXskES8uU9OP"
      }
    },
    {
      "cell_type": "code",
      "source": [
        "#import libraries\n",
        "from sklearn.datasets import load_iris\n",
        "\n",
        "iris = load_iris() #load dataset\n",
        "\n",
        "print(iris.DESCR)"
      ],
      "metadata": {
        "id": "5rvEIdG8hubl",
        "outputId": "ea97c95c-1e6b-47c4-dae4-96d40a81bfb9",
        "colab": {
          "base_uri": "https://localhost:8080/"
        }
      },
      "execution_count": null,
      "outputs": [
        {
          "output_type": "stream",
          "name": "stdout",
          "text": [
            ".. _iris_dataset:\n",
            "\n",
            "Iris plants dataset\n",
            "--------------------\n",
            "\n",
            "**Data Set Characteristics:**\n",
            "\n",
            "    :Number of Instances: 150 (50 in each of three classes)\n",
            "    :Number of Attributes: 4 numeric, predictive attributes and the class\n",
            "    :Attribute Information:\n",
            "        - sepal length in cm\n",
            "        - sepal width in cm\n",
            "        - petal length in cm\n",
            "        - petal width in cm\n",
            "        - class:\n",
            "                - Iris-Setosa\n",
            "                - Iris-Versicolour\n",
            "                - Iris-Virginica\n",
            "                \n",
            "    :Summary Statistics:\n",
            "\n",
            "    ============== ==== ==== ======= ===== ====================\n",
            "                    Min  Max   Mean    SD   Class Correlation\n",
            "    ============== ==== ==== ======= ===== ====================\n",
            "    sepal length:   4.3  7.9   5.84   0.83    0.7826\n",
            "    sepal width:    2.0  4.4   3.05   0.43   -0.4194\n",
            "    petal length:   1.0  6.9   3.76   1.76    0.9490  (high!)\n",
            "    petal width:    0.1  2.5   1.20   0.76    0.9565  (high!)\n",
            "    ============== ==== ==== ======= ===== ====================\n",
            "\n",
            "    :Missing Attribute Values: None\n",
            "    :Class Distribution: 33.3% for each of 3 classes.\n",
            "    :Creator: R.A. Fisher\n",
            "    :Donor: Michael Marshall (MARSHALL%PLU@io.arc.nasa.gov)\n",
            "    :Date: July, 1988\n",
            "\n",
            "The famous Iris database, first used by Sir R.A. Fisher. The dataset is taken\n",
            "from Fisher's paper. Note that it's the same as in R, but not as in the UCI\n",
            "Machine Learning Repository, which has two wrong data points.\n",
            "\n",
            "This is perhaps the best known database to be found in the\n",
            "pattern recognition literature.  Fisher's paper is a classic in the field and\n",
            "is referenced frequently to this day.  (See Duda & Hart, for example.)  The\n",
            "data set contains 3 classes of 50 instances each, where each class refers to a\n",
            "type of iris plant.  One class is linearly separable from the other 2; the\n",
            "latter are NOT linearly separable from each other.\n",
            "\n",
            ".. topic:: References\n",
            "\n",
            "   - Fisher, R.A. \"The use of multiple measurements in taxonomic problems\"\n",
            "     Annual Eugenics, 7, Part II, 179-188 (1936); also in \"Contributions to\n",
            "     Mathematical Statistics\" (John Wiley, NY, 1950).\n",
            "   - Duda, R.O., & Hart, P.E. (1973) Pattern Classification and Scene Analysis.\n",
            "     (Q327.D83) John Wiley & Sons.  ISBN 0-471-22361-1.  See page 218.\n",
            "   - Dasarathy, B.V. (1980) \"Nosing Around the Neighborhood: A New System\n",
            "     Structure and Classification Rule for Recognition in Partially Exposed\n",
            "     Environments\".  IEEE Transactions on Pattern Analysis and Machine\n",
            "     Intelligence, Vol. PAMI-2, No. 1, 67-71.\n",
            "   - Gates, G.W. (1972) \"The Reduced Nearest Neighbor Rule\".  IEEE Transactions\n",
            "     on Information Theory, May 1972, 431-433.\n",
            "   - See also: 1988 MLC Proceedings, 54-64.  Cheeseman et al\"s AUTOCLASS II\n",
            "     conceptual clustering system finds 3 classes in the data.\n",
            "   - Many, many more ...\n"
          ]
        }
      ]
    },
    {
      "cell_type": "code",
      "source": [
        "# input data and its labels\n",
        "x = iris.data\n",
        "t = iris.target\n",
        "\n",
        "print(\"X=\\n\", x)\n",
        "print(\"t=\\n\", t)"
      ],
      "metadata": {
        "id": "glYKAIeWiAYU",
        "outputId": "777ccd54-8ea3-4d83-ce37-fa0a6655e2c3",
        "colab": {
          "base_uri": "https://localhost:8080/"
        }
      },
      "execution_count": null,
      "outputs": [
        {
          "output_type": "stream",
          "name": "stdout",
          "text": [
            "X=\n",
            " [[5.100 3.500 1.400 0.200]\n",
            " [4.900 3.000 1.400 0.200]\n",
            " [4.700 3.200 1.300 0.200]\n",
            " [4.600 3.100 1.500 0.200]\n",
            " [5.000 3.600 1.400 0.200]\n",
            " [5.400 3.900 1.700 0.400]\n",
            " [4.600 3.400 1.400 0.300]\n",
            " [5.000 3.400 1.500 0.200]\n",
            " [4.400 2.900 1.400 0.200]\n",
            " [4.900 3.100 1.500 0.100]\n",
            " [5.400 3.700 1.500 0.200]\n",
            " [4.800 3.400 1.600 0.200]\n",
            " [4.800 3.000 1.400 0.100]\n",
            " [4.300 3.000 1.100 0.100]\n",
            " [5.800 4.000 1.200 0.200]\n",
            " [5.700 4.400 1.500 0.400]\n",
            " [5.400 3.900 1.300 0.400]\n",
            " [5.100 3.500 1.400 0.300]\n",
            " [5.700 3.800 1.700 0.300]\n",
            " [5.100 3.800 1.500 0.300]\n",
            " [5.400 3.400 1.700 0.200]\n",
            " [5.100 3.700 1.500 0.400]\n",
            " [4.600 3.600 1.000 0.200]\n",
            " [5.100 3.300 1.700 0.500]\n",
            " [4.800 3.400 1.900 0.200]\n",
            " [5.000 3.000 1.600 0.200]\n",
            " [5.000 3.400 1.600 0.400]\n",
            " [5.200 3.500 1.500 0.200]\n",
            " [5.200 3.400 1.400 0.200]\n",
            " [4.700 3.200 1.600 0.200]\n",
            " [4.800 3.100 1.600 0.200]\n",
            " [5.400 3.400 1.500 0.400]\n",
            " [5.200 4.100 1.500 0.100]\n",
            " [5.500 4.200 1.400 0.200]\n",
            " [4.900 3.100 1.500 0.200]\n",
            " [5.000 3.200 1.200 0.200]\n",
            " [5.500 3.500 1.300 0.200]\n",
            " [4.900 3.600 1.400 0.100]\n",
            " [4.400 3.000 1.300 0.200]\n",
            " [5.100 3.400 1.500 0.200]\n",
            " [5.000 3.500 1.300 0.300]\n",
            " [4.500 2.300 1.300 0.300]\n",
            " [4.400 3.200 1.300 0.200]\n",
            " [5.000 3.500 1.600 0.600]\n",
            " [5.100 3.800 1.900 0.400]\n",
            " [4.800 3.000 1.400 0.300]\n",
            " [5.100 3.800 1.600 0.200]\n",
            " [4.600 3.200 1.400 0.200]\n",
            " [5.300 3.700 1.500 0.200]\n",
            " [5.000 3.300 1.400 0.200]\n",
            " [7.000 3.200 4.700 1.400]\n",
            " [6.400 3.200 4.500 1.500]\n",
            " [6.900 3.100 4.900 1.500]\n",
            " [5.500 2.300 4.000 1.300]\n",
            " [6.500 2.800 4.600 1.500]\n",
            " [5.700 2.800 4.500 1.300]\n",
            " [6.300 3.300 4.700 1.600]\n",
            " [4.900 2.400 3.300 1.000]\n",
            " [6.600 2.900 4.600 1.300]\n",
            " [5.200 2.700 3.900 1.400]\n",
            " [5.000 2.000 3.500 1.000]\n",
            " [5.900 3.000 4.200 1.500]\n",
            " [6.000 2.200 4.000 1.000]\n",
            " [6.100 2.900 4.700 1.400]\n",
            " [5.600 2.900 3.600 1.300]\n",
            " [6.700 3.100 4.400 1.400]\n",
            " [5.600 3.000 4.500 1.500]\n",
            " [5.800 2.700 4.100 1.000]\n",
            " [6.200 2.200 4.500 1.500]\n",
            " [5.600 2.500 3.900 1.100]\n",
            " [5.900 3.200 4.800 1.800]\n",
            " [6.100 2.800 4.000 1.300]\n",
            " [6.300 2.500 4.900 1.500]\n",
            " [6.100 2.800 4.700 1.200]\n",
            " [6.400 2.900 4.300 1.300]\n",
            " [6.600 3.000 4.400 1.400]\n",
            " [6.800 2.800 4.800 1.400]\n",
            " [6.700 3.000 5.000 1.700]\n",
            " [6.000 2.900 4.500 1.500]\n",
            " [5.700 2.600 3.500 1.000]\n",
            " [5.500 2.400 3.800 1.100]\n",
            " [5.500 2.400 3.700 1.000]\n",
            " [5.800 2.700 3.900 1.200]\n",
            " [6.000 2.700 5.100 1.600]\n",
            " [5.400 3.000 4.500 1.500]\n",
            " [6.000 3.400 4.500 1.600]\n",
            " [6.700 3.100 4.700 1.500]\n",
            " [6.300 2.300 4.400 1.300]\n",
            " [5.600 3.000 4.100 1.300]\n",
            " [5.500 2.500 4.000 1.300]\n",
            " [5.500 2.600 4.400 1.200]\n",
            " [6.100 3.000 4.600 1.400]\n",
            " [5.800 2.600 4.000 1.200]\n",
            " [5.000 2.300 3.300 1.000]\n",
            " [5.600 2.700 4.200 1.300]\n",
            " [5.700 3.000 4.200 1.200]\n",
            " [5.700 2.900 4.200 1.300]\n",
            " [6.200 2.900 4.300 1.300]\n",
            " [5.100 2.500 3.000 1.100]\n",
            " [5.700 2.800 4.100 1.300]\n",
            " [6.300 3.300 6.000 2.500]\n",
            " [5.800 2.700 5.100 1.900]\n",
            " [7.100 3.000 5.900 2.100]\n",
            " [6.300 2.900 5.600 1.800]\n",
            " [6.500 3.000 5.800 2.200]\n",
            " [7.600 3.000 6.600 2.100]\n",
            " [4.900 2.500 4.500 1.700]\n",
            " [7.300 2.900 6.300 1.800]\n",
            " [6.700 2.500 5.800 1.800]\n",
            " [7.200 3.600 6.100 2.500]\n",
            " [6.500 3.200 5.100 2.000]\n",
            " [6.400 2.700 5.300 1.900]\n",
            " [6.800 3.000 5.500 2.100]\n",
            " [5.700 2.500 5.000 2.000]\n",
            " [5.800 2.800 5.100 2.400]\n",
            " [6.400 3.200 5.300 2.300]\n",
            " [6.500 3.000 5.500 1.800]\n",
            " [7.700 3.800 6.700 2.200]\n",
            " [7.700 2.600 6.900 2.300]\n",
            " [6.000 2.200 5.000 1.500]\n",
            " [6.900 3.200 5.700 2.300]\n",
            " [5.600 2.800 4.900 2.000]\n",
            " [7.700 2.800 6.700 2.000]\n",
            " [6.300 2.700 4.900 1.800]\n",
            " [6.700 3.300 5.700 2.100]\n",
            " [7.200 3.200 6.000 1.800]\n",
            " [6.200 2.800 4.800 1.800]\n",
            " [6.100 3.000 4.900 1.800]\n",
            " [6.400 2.800 5.600 2.100]\n",
            " [7.200 3.000 5.800 1.600]\n",
            " [7.400 2.800 6.100 1.900]\n",
            " [7.900 3.800 6.400 2.000]\n",
            " [6.400 2.800 5.600 2.200]\n",
            " [6.300 2.800 5.100 1.500]\n",
            " [6.100 2.600 5.600 1.400]\n",
            " [7.700 3.000 6.100 2.300]\n",
            " [6.300 3.400 5.600 2.400]\n",
            " [6.400 3.100 5.500 1.800]\n",
            " [6.000 3.000 4.800 1.800]\n",
            " [6.900 3.100 5.400 2.100]\n",
            " [6.700 3.100 5.600 2.400]\n",
            " [6.900 3.100 5.100 2.300]\n",
            " [5.800 2.700 5.100 1.900]\n",
            " [6.800 3.200 5.900 2.300]\n",
            " [6.700 3.300 5.700 2.500]\n",
            " [6.700 3.000 5.200 2.300]\n",
            " [6.300 2.500 5.000 1.900]\n",
            " [6.500 3.000 5.200 2.000]\n",
            " [6.200 3.400 5.400 2.300]\n",
            " [5.900 3.000 5.100 1.800]]\n",
            "t=\n",
            " [0 0 0 0 0 0 0 0 0 0 0 0 0 0 0 0 0 0 0 0 0 0 0 0 0 0 0 0 0 0 0 0 0 0 0 0 0\n",
            " 0 0 0 0 0 0 0 0 0 0 0 0 0 1 1 1 1 1 1 1 1 1 1 1 1 1 1 1 1 1 1 1 1 1 1 1 1\n",
            " 1 1 1 1 1 1 1 1 1 1 1 1 1 1 1 1 1 1 1 1 1 1 1 1 1 1 2 2 2 2 2 2 2 2 2 2 2\n",
            " 2 2 2 2 2 2 2 2 2 2 2 2 2 2 2 2 2 2 2 2 2 2 2 2 2 2 2 2 2 2 2 2 2 2 2 2 2\n",
            " 2 2]\n"
          ]
        }
      ]
    },
    {
      "cell_type": "code",
      "source": [
        "from sklearn.model_selection import train_test_split\n",
        "\n",
        "# Divide into training data and test data and shuffle\n",
        "x_train, x_test, t_train, t_test = train_test_split(x, t, test_size=0.4, random_state=47)\n",
        "\n",
        "print(\"x_train.shape=\", x_train.shape)\n",
        "print(\"t_train.shape=\", t_train.shape)\n",
        "print(\"x_test.shape=\", x_test.shape)\n",
        "print(\"t_test.shape=\", t_test.shape)"
      ],
      "metadata": {
        "id": "sjbT73DhiCyp",
        "outputId": "5dd68465-8187-410a-cd0d-cf74c1f34387",
        "colab": {
          "base_uri": "https://localhost:8080/"
        }
      },
      "execution_count": null,
      "outputs": [
        {
          "output_type": "stream",
          "name": "stdout",
          "text": [
            "x_train.shape= (90, 4)\n",
            "t_train.shape= (90,)\n",
            "x_test.shape= (60, 4)\n",
            "t_test.shape= (60,)\n"
          ]
        }
      ]
    },
    {
      "cell_type": "markdown",
      "source": [
        "### Class Definition"
      ],
      "metadata": {
        "id": "O9GwdBu5qFKf"
      }
    },
    {
      "cell_type": "code",
      "source": [
        "class Linear:\n",
        "    def __init__(self, w, b):\n",
        "        self.w = w # weights\n",
        "        self.b = b # biases\n",
        "        self.x = None\n",
        "        self.dw = None # gradient of w\n",
        "        self.db = None # gradient of b\n",
        "\n",
        "    def forward(self, x):\n",
        "        self.x = x\n",
        "        p = np.dot(x, self.w) + self.b    # Affine mapping\n",
        "        return p\n",
        "\n",
        "    def backward(self, dL0):\n",
        "        dL = np.dot(dL0, self.w.T)        # dL/dx\n",
        "        self.dw = np.dot(self.x.T, dL0)   # dL/dw\n",
        "        self.db = np.sum(dL0, axis=0)     # dL/db\n",
        "        return dL\n",
        "\n",
        "    def get_params(self):\n",
        "        return [self.w, self.b]\n",
        "\n",
        "    def get_grads(self):\n",
        "        return [self.dw, self.db]\n",
        "\n",
        "class Sigmoid:\n",
        "    def __init__(self):\n",
        "        self.y = None\n",
        "\n",
        "    def forward(self, x):\n",
        "        y = 1 / (1 + np.exp(-x))  # Sigmoid function\n",
        "        self.y = y\n",
        "        return y\n",
        "\n",
        "    def backward(self, dL0):\n",
        "        dL = dL0 * self.y * (1.0 - self.y)  #dL/dp\n",
        "        return dL\n",
        "\n",
        "    def get_params(self):\n",
        "        return []\n",
        "\n",
        "    def get_grads(self):\n",
        "        return []\n",
        "\n",
        "class Relu:\n",
        "  def __init__(self):\n",
        "    self.mask = None\n",
        "\n",
        "  def forward(self, x):\n",
        "    out = x.copy()\n",
        "    self.mask = (x <= 0)    # Save information of elements that were less than or equal to 0 as \"mask\".\n",
        "    out[self.mask] = 0      #replace elements that were less than or equal to 0 with 0.\n",
        "    return out\n",
        "\n",
        "  def backward(self, dout):\n",
        "    dout[self.mask] = 0 #Replace elements that were less than or equal to 0 during forward propagation with 0.\n",
        "    dx = dout\n",
        "    return dx\n",
        "\n",
        "class MSE:\n",
        "    def __init__(self):\n",
        "        self.z = None\n",
        "        self.t = None\n",
        "\n",
        "    def forward(self, z, t):\n",
        "        self.z = z\n",
        "        self.t = t\n",
        "        row, col = z.shape # row:data_num, col:input dimension\n",
        "        loss = np.sum((z-t) ** 2) / row\n",
        "        return loss\n",
        "\n",
        "    def backward(self):\n",
        "        dL = self.z - self.t    #dL/dz\n",
        "        return dL\n",
        "\n",
        "class SoftmaxWithCrossEntropy:\n",
        "    def __init__(self):\n",
        "        self.loss = None\n",
        "        self.y = None # output of softmax\n",
        "        self.t = None # labels\n",
        "\n",
        "    def forward(self, x, t):\n",
        "        self.t = t\n",
        "        self.y = self.softmax(x)\n",
        "        self.loss = self.cross_entropy_error(self.y, self.t)\n",
        "        return self.loss\n",
        "\n",
        "    def backward(self, dout=1):\n",
        "        input_size = self.t.shape[0]\n",
        "        dx = (self.y - self.t) / input_size\n",
        "        return dx\n",
        "\n",
        "    def softmax(self, x):\n",
        "        max_x = np.max(x, axis=-1, keepdims=True)\n",
        "        exp_x = np.exp(x - max_x)  # overflow protection\n",
        "        y = exp_x / np.sum(exp_x, axis=-1, keepdims=True)\n",
        "        return y\n",
        "\n",
        "    def cross_entropy_error(self, y, t):\n",
        "        delta = 1e-7\n",
        "        return -np.sum(t * np.log(y + delta))\n",
        "\n",
        "# optimizer\n",
        "class SGD:\n",
        "    def __init__(self, learning_rate=0.01):\n",
        "        self.learning_rate = learning_rate\n",
        "\n",
        "    def update(self, layers):\n",
        "        for layer in layers.values():\n",
        "            for (param, grad) in zip(layer.get_params(), layer.get_grads()):\n",
        "                param -= self.learning_rate * grad # Gradient descent"
      ],
      "metadata": {
        "id": "ue51sOvTi7AL"
      },
      "execution_count": null,
      "outputs": []
    },
    {
      "cell_type": "markdown",
      "source": [
        "## **Example 5.1.5** Neural network model\n",
        "\n",
        "![image.png](data:image/png;base64,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)"
      ],
      "metadata": {
        "id": "Qu-IDzrRqNt-"
      }
    },
    {
      "cell_type": "code",
      "source": [
        "from collections import OrderedDict\n",
        "\n",
        "class Model3:\n",
        "    def __init__(self, input_size, output_size):\n",
        "        #initialize weights and biases\n",
        "        W1 = np.random.randn(input_size, output_size)  #initialize weights with random value\n",
        "        b1 = np.zeros(output_size)  #initialize biases with 0\n",
        "\n",
        "        #neural network model definition\n",
        "        self.layers = OrderedDict()\n",
        "        self.layers['linear1'] = Linear(W1, b1)     # Linear layer\n",
        "        self.loss_layer = SoftmaxWithCrossEntropy() # Softmax with CrossEntropy layer\n",
        "\n",
        "    def get_layers(self):\n",
        "        return self.layers\n",
        "\n",
        "    # forward calculation\n",
        "    def predict(self, x):\n",
        "        for layer in self.layers.values():\n",
        "            x = layer.forward(x)\n",
        "        return x\n",
        "\n",
        "    def loss(self, x, t):\n",
        "        y = self.predict(x)\n",
        "        return self.loss_layer.forward(y, t)  # get Loss and return\n",
        "\n",
        "    # backward calculation\n",
        "    def backward(self):\n",
        "        dL = self.loss_layer.backward() # Loss layer\n",
        "        for layer in reversed(self.layers.values()):\n",
        "            dL = layer.backward(dL)"
      ],
      "metadata": {
        "id": "XNGXwAi-i_RV"
      },
      "execution_count": null,
      "outputs": []
    },
    {
      "cell_type": "code",
      "source": [
        "# Calculate accuracy using predictions and targets\n",
        "def accuracy(y_pred, t):\n",
        "  acc = np.sum(y_pred == t) / np.float32(t.shape[0])\n",
        "  return acc"
      ],
      "metadata": {
        "id": "Gfyd7B-VBA8y"
      },
      "execution_count": null,
      "outputs": []
    },
    {
      "cell_type": "markdown",
      "source": [
        "## **Example 5.1.6** One-hot encoding"
      ],
      "metadata": {
        "id": "0-7wKRHe8624"
      }
    },
    {
      "cell_type": "code",
      "source": [
        "# one-hot encoding for training data\n",
        "t_train_onehot = np.identity(3)[t_train]\n",
        "\n",
        "#one-hot encoding for test data\n",
        "t_test_onehot = np.identity(3)[t_test]\n",
        "\n",
        "print(\"t_train=\\n\", t_train)\n",
        "print(\"t_train_onehot=\\n\", t_train_onehot)"
      ],
      "metadata": {
        "id": "_pef5k_Q875H",
        "outputId": "a4d770d8-5740-453e-96b9-0ca58e2f037e",
        "colab": {
          "base_uri": "https://localhost:8080/"
        }
      },
      "execution_count": null,
      "outputs": [
        {
          "output_type": "stream",
          "name": "stdout",
          "text": [
            "t_train=\n",
            " [0 0 1 1 0 0 2 2 1 0 2 2 2 2 0 1 0 1 0 1 2 2 1 2 2 1 2 2 2 0 2 0 1 0 2 1 1\n",
            " 1 0 2 1 1 1 1 1 0 1 0 0 0 0 0 1 1 1 1 0 2 1 0 0 1 1 2 1 1 0 1 1 0 1 2 2 2\n",
            " 1 1 2 1 1 2 2 0 1 0 1 1 0 1 2 2]\n",
            "t_train_onehot=\n",
            " [[1.000 0.000 0.000]\n",
            " [1.000 0.000 0.000]\n",
            " [0.000 1.000 0.000]\n",
            " [0.000 1.000 0.000]\n",
            " [1.000 0.000 0.000]\n",
            " [1.000 0.000 0.000]\n",
            " [0.000 0.000 1.000]\n",
            " [0.000 0.000 1.000]\n",
            " [0.000 1.000 0.000]\n",
            " [1.000 0.000 0.000]\n",
            " [0.000 0.000 1.000]\n",
            " [0.000 0.000 1.000]\n",
            " [0.000 0.000 1.000]\n",
            " [0.000 0.000 1.000]\n",
            " [1.000 0.000 0.000]\n",
            " [0.000 1.000 0.000]\n",
            " [1.000 0.000 0.000]\n",
            " [0.000 1.000 0.000]\n",
            " [1.000 0.000 0.000]\n",
            " [0.000 1.000 0.000]\n",
            " [0.000 0.000 1.000]\n",
            " [0.000 0.000 1.000]\n",
            " [0.000 1.000 0.000]\n",
            " [0.000 0.000 1.000]\n",
            " [0.000 0.000 1.000]\n",
            " [0.000 1.000 0.000]\n",
            " [0.000 0.000 1.000]\n",
            " [0.000 0.000 1.000]\n",
            " [0.000 0.000 1.000]\n",
            " [1.000 0.000 0.000]\n",
            " [0.000 0.000 1.000]\n",
            " [1.000 0.000 0.000]\n",
            " [0.000 1.000 0.000]\n",
            " [1.000 0.000 0.000]\n",
            " [0.000 0.000 1.000]\n",
            " [0.000 1.000 0.000]\n",
            " [0.000 1.000 0.000]\n",
            " [0.000 1.000 0.000]\n",
            " [1.000 0.000 0.000]\n",
            " [0.000 0.000 1.000]\n",
            " [0.000 1.000 0.000]\n",
            " [0.000 1.000 0.000]\n",
            " [0.000 1.000 0.000]\n",
            " [0.000 1.000 0.000]\n",
            " [0.000 1.000 0.000]\n",
            " [1.000 0.000 0.000]\n",
            " [0.000 1.000 0.000]\n",
            " [1.000 0.000 0.000]\n",
            " [1.000 0.000 0.000]\n",
            " [1.000 0.000 0.000]\n",
            " [1.000 0.000 0.000]\n",
            " [1.000 0.000 0.000]\n",
            " [0.000 1.000 0.000]\n",
            " [0.000 1.000 0.000]\n",
            " [0.000 1.000 0.000]\n",
            " [0.000 1.000 0.000]\n",
            " [1.000 0.000 0.000]\n",
            " [0.000 0.000 1.000]\n",
            " [0.000 1.000 0.000]\n",
            " [1.000 0.000 0.000]\n",
            " [1.000 0.000 0.000]\n",
            " [0.000 1.000 0.000]\n",
            " [0.000 1.000 0.000]\n",
            " [0.000 0.000 1.000]\n",
            " [0.000 1.000 0.000]\n",
            " [0.000 1.000 0.000]\n",
            " [1.000 0.000 0.000]\n",
            " [0.000 1.000 0.000]\n",
            " [0.000 1.000 0.000]\n",
            " [1.000 0.000 0.000]\n",
            " [0.000 1.000 0.000]\n",
            " [0.000 0.000 1.000]\n",
            " [0.000 0.000 1.000]\n",
            " [0.000 0.000 1.000]\n",
            " [0.000 1.000 0.000]\n",
            " [0.000 1.000 0.000]\n",
            " [0.000 0.000 1.000]\n",
            " [0.000 1.000 0.000]\n",
            " [0.000 1.000 0.000]\n",
            " [0.000 0.000 1.000]\n",
            " [0.000 0.000 1.000]\n",
            " [1.000 0.000 0.000]\n",
            " [0.000 1.000 0.000]\n",
            " [1.000 0.000 0.000]\n",
            " [0.000 1.000 0.000]\n",
            " [0.000 1.000 0.000]\n",
            " [1.000 0.000 0.000]\n",
            " [0.000 1.000 0.000]\n",
            " [0.000 0.000 1.000]\n",
            " [0.000 0.000 1.000]]\n"
          ]
        }
      ]
    },
    {
      "cell_type": "markdown",
      "source": [
        "## **Example 5.1.7** Learning with Iris dataset"
      ],
      "metadata": {
        "id": "6i8bvkmetAbN"
      }
    },
    {
      "cell_type": "code",
      "source": [
        "import matplotlib.pyplot as plt\n",
        "\n",
        "# change labels to one-hot vector\n",
        "t_train_onehot = np.identity(3)[t_train] # one-hot encoding for training data\n",
        "t_test_onehot = np.identity(3)[t_test] #one-hot encoding for test data\n",
        "\n",
        "#model\n",
        "input_size = x_train.shape[1]           # input_size = 2\n",
        "output_size = t_train_onehot.shape[1]   # output_size = 3 (3 classes)\n",
        "net = Model3(input_size, output_size)   # neural network model\n",
        "optimizer = SGD(learning_rate = 0.01)   # for update parameters\n",
        "\n",
        "Epoch = 10000 # the number of training\n",
        "loss = []\n",
        "\n",
        "#learning process\n",
        "for i in range(Epoch):\n",
        "    l = net.loss(x_train, t_train_onehot)   # forward calculation\n",
        "    net.backward()                          # backward propagation\n",
        "    optimizer.update(net.get_layers())      # update parameters\n",
        "    loss.append(l)                          # record current loss\n",
        "\n",
        "# draw the loss graph\n",
        "plt.plot(loss)\n",
        "plt.ylabel(\"Loss\")\n",
        "plt.show()\n",
        "\n",
        "# evaluation\n",
        "y_test = net.predict(x_test)\n",
        "y_test_pred = np.argmax(y_test, axis=1)       # pred is the label of the output given the highest probability by the network\n",
        "acc = accuracy(y_test_pred, t_test)\n",
        "print(\"accuracy=\\n\", acc, \"\\n\")"
      ],
      "metadata": {
        "id": "1_PqqW86jDqP",
        "outputId": "0d0a8036-96fe-4cf9-c852-bd0142a689e6",
        "colab": {
          "base_uri": "https://localhost:8080/",
          "height": 500
        }
      },
      "execution_count": null,
      "outputs": [
        {
          "output_type": "display_data",
          "data": {
            "text/plain": [
              "<Figure size 640x480 with 1 Axes>"
            ],
            "image/png": "[encoded data removed]"
          },
          "metadata": {}
        },
        {
          "output_type": "stream",
          "name": "stdout",
          "text": [
            "accuracy=\n",
            " 1.0 \n",
            "\n"
          ]
        }
      ]
    },
    {
      "cell_type": "markdown",
      "source": [
        "## **Example 5.1.8** Dispaly the confusion matrix"
      ],
      "metadata": {
        "id": "lbO1mvp7PzYf"
      }
    },
    {
      "cell_type": "code",
      "source": [
        "from sklearn.metrics import confusion_matrix, ConfusionMatrixDisplay\n",
        "\n",
        "y_test_pred = np.argmax(y_test, axis=1)     # pred is the label of the output given the highest probability by the network\n",
        "t = np.argmax(t_test_onehot, axis=1)        # t is the correct label\n",
        "class_names = [\"Setosa\", \"Versicolor\", \"Virginica\"]\n",
        "\n",
        "cm = confusion_matrix(y_pred=y_test_pred, y_true=t)\n",
        "cmp = ConfusionMatrixDisplay(cm, display_labels=class_names)\n",
        "\n",
        "cmp.plot(cmap=plt.cm.Blues)"
      ],
      "metadata": {
        "id": "a-OxIUwOjsNV",
        "outputId": "88c43bd3-5bc5-4864-8aad-57bb175c732e",
        "colab": {
          "base_uri": "https://localhost:8080/",
          "height": 486
        }
      },
      "execution_count": null,
      "outputs": [
        {
          "output_type": "execute_result",
          "data": {
            "text/plain": [
              "<sklearn.metrics._plot.confusion_matrix.ConfusionMatrixDisplay at 0x7e5123257d90>"
            ]
          },
          "metadata": {},
          "execution_count": 16
        },
        {
          "output_type": "display_data",
          "data": {
            "text/plain": [
              "<Figure size 640x480 with 2 Axes>"
            ],
            "image/png": "[encoded data removed]"
          },
          "metadata": {}
        }
      ]
    },
    {
      "cell_type": "markdown",
      "source": [
        "## 🤔 **Exercise 5.1**"
      ],
      "metadata": {
        "id": "_jp6rY8krX9x"
      }
    },
    {
      "cell_type": "code",
      "source": [
        "from collections import OrderedDict\n",
        "\n",
        "class Model3_5_1:\n",
        "    def __init__(self, input_size, hidden_size, output_size):\n",
        "        #initialize weights and biases\n",
        "        W1 = np.random.randn(input_size, hidden_size)\n",
        "        b1 = np.zeros(hidden_size)\n",
        "        U1 = np.random.randn(hidden_size, output_size)\n",
        "        c1 = np.zeros(output_size)\n",
        "\n",
        "        #neural network model definition\n",
        "        self.layers = OrderedDict()\n",
        "        self.layers['linear1'] = Linear(W1, b1)  # Linear layer\n",
        "        self.layers['sigmoid'] = Sigmoid()\n",
        "        self.layers['linear2'] = Linear(U1, c1) # Linear layer\n",
        "        self.loss_layer = SoftmaxWithCrossEntropy() # Softmax with CrossEntropy layer\n",
        "\n",
        "    def get_layers(self):\n",
        "        return self.layers\n",
        "\n",
        "    # forward calculation\n",
        "    def predict(self, x):\n",
        "        for layer in self.layers.values():\n",
        "            x = layer.forward(x)\n",
        "        return x\n",
        "\n",
        "    def loss(self, x, t):\n",
        "        y = self.predict(x)\n",
        "        return self.loss_layer.forward(y, t)  # get Loss and return\n",
        "\n",
        "    # backward calculation\n",
        "    def backward(self):\n",
        "        dL = self.loss_layer.backward() # Loss layer\n",
        "        for layer in reversed(self.layers.values()):\n",
        "            dL = layer.backward(dL)"
      ],
      "metadata": {
        "id": "wX2TF364sFe4"
      },
      "execution_count": null,
      "outputs": []
    },
    {
      "cell_type": "code",
      "source": [
        "# Calculate accuracy using predictions and targets\n",
        "def accuracy(y_pred, t):\n",
        "  acc = np.sum(y_pred == t) / np.float32(t.shape[0])\n",
        "  return acc"
      ],
      "metadata": {
        "id": "WJZQkxCuesjg"
      },
      "execution_count": null,
      "outputs": []
    },
    {
      "cell_type": "code",
      "source": [
        "# one-hot encoding for training data\n",
        "t_train_onehot = np.identity(3)[t_train]\n",
        "\n",
        "#one-hot encoding for test data\n",
        "t_test_onehot = np.identity(3)[t_test]\n",
        "\n",
        "print(\"t_train=\\n\", t_train)\n",
        "print(\"t_train_onehot=\\n\", t_train_onehot)"
      ],
      "metadata": {
        "id": "Aa0xOpLBev7r",
        "outputId": "9d1519f0-19de-4558-b8b3-f355841e43bd",
        "colab": {
          "base_uri": "https://localhost:8080/"
        }
      },
      "execution_count": null,
      "outputs": [
        {
          "output_type": "stream",
          "name": "stdout",
          "text": [
            "t_train=\n",
            " [0 0 1 1 0 0 2 2 1 0 2 2 2 2 0 1 0 1 0 1 2 2 1 2 2 1 2 2 2 0 2 0 1 0 2 1 1\n",
            " 1 0 2 1 1 1 1 1 0 1 0 0 0 0 0 1 1 1 1 0 2 1 0 0 1 1 2 1 1 0 1 1 0 1 2 2 2\n",
            " 1 1 2 1 1 2 2 0 1 0 1 1 0 1 2 2]\n",
            "t_train_onehot=\n",
            " [[1.000 0.000 0.000]\n",
            " [1.000 0.000 0.000]\n",
            " [0.000 1.000 0.000]\n",
            " [0.000 1.000 0.000]\n",
            " [1.000 0.000 0.000]\n",
            " [1.000 0.000 0.000]\n",
            " [0.000 0.000 1.000]\n",
            " [0.000 0.000 1.000]\n",
            " [0.000 1.000 0.000]\n",
            " [1.000 0.000 0.000]\n",
            " [0.000 0.000 1.000]\n",
            " [0.000 0.000 1.000]\n",
            " [0.000 0.000 1.000]\n",
            " [0.000 0.000 1.000]\n",
            " [1.000 0.000 0.000]\n",
            " [0.000 1.000 0.000]\n",
            " [1.000 0.000 0.000]\n",
            " [0.000 1.000 0.000]\n",
            " [1.000 0.000 0.000]\n",
            " [0.000 1.000 0.000]\n",
            " [0.000 0.000 1.000]\n",
            " [0.000 0.000 1.000]\n",
            " [0.000 1.000 0.000]\n",
            " [0.000 0.000 1.000]\n",
            " [0.000 0.000 1.000]\n",
            " [0.000 1.000 0.000]\n",
            " [0.000 0.000 1.000]\n",
            " [0.000 0.000 1.000]\n",
            " [0.000 0.000 1.000]\n",
            " [1.000 0.000 0.000]\n",
            " [0.000 0.000 1.000]\n",
            " [1.000 0.000 0.000]\n",
            " [0.000 1.000 0.000]\n",
            " [1.000 0.000 0.000]\n",
            " [0.000 0.000 1.000]\n",
            " [0.000 1.000 0.000]\n",
            " [0.000 1.000 0.000]\n",
            " [0.000 1.000 0.000]\n",
            " [1.000 0.000 0.000]\n",
            " [0.000 0.000 1.000]\n",
            " [0.000 1.000 0.000]\n",
            " [0.000 1.000 0.000]\n",
            " [0.000 1.000 0.000]\n",
            " [0.000 1.000 0.000]\n",
            " [0.000 1.000 0.000]\n",
            " [1.000 0.000 0.000]\n",
            " [0.000 1.000 0.000]\n",
            " [1.000 0.000 0.000]\n",
            " [1.000 0.000 0.000]\n",
            " [1.000 0.000 0.000]\n",
            " [1.000 0.000 0.000]\n",
            " [1.000 0.000 0.000]\n",
            " [0.000 1.000 0.000]\n",
            " [0.000 1.000 0.000]\n",
            " [0.000 1.000 0.000]\n",
            " [0.000 1.000 0.000]\n",
            " [1.000 0.000 0.000]\n",
            " [0.000 0.000 1.000]\n",
            " [0.000 1.000 0.000]\n",
            " [1.000 0.000 0.000]\n",
            " [1.000 0.000 0.000]\n",
            " [0.000 1.000 0.000]\n",
            " [0.000 1.000 0.000]\n",
            " [0.000 0.000 1.000]\n",
            " [0.000 1.000 0.000]\n",
            " [0.000 1.000 0.000]\n",
            " [1.000 0.000 0.000]\n",
            " [0.000 1.000 0.000]\n",
            " [0.000 1.000 0.000]\n",
            " [1.000 0.000 0.000]\n",
            " [0.000 1.000 0.000]\n",
            " [0.000 0.000 1.000]\n",
            " [0.000 0.000 1.000]\n",
            " [0.000 0.000 1.000]\n",
            " [0.000 1.000 0.000]\n",
            " [0.000 1.000 0.000]\n",
            " [0.000 0.000 1.000]\n",
            " [0.000 1.000 0.000]\n",
            " [0.000 1.000 0.000]\n",
            " [0.000 0.000 1.000]\n",
            " [0.000 0.000 1.000]\n",
            " [1.000 0.000 0.000]\n",
            " [0.000 1.000 0.000]\n",
            " [1.000 0.000 0.000]\n",
            " [0.000 1.000 0.000]\n",
            " [0.000 1.000 0.000]\n",
            " [1.000 0.000 0.000]\n",
            " [0.000 1.000 0.000]\n",
            " [0.000 0.000 1.000]\n",
            " [0.000 0.000 1.000]]\n"
          ]
        }
      ]
    },
    {
      "cell_type": "code",
      "source": [
        "import matplotlib.pyplot as plt\n",
        "\n",
        "# change labels to one-hot vector\n",
        "t_train_onehot = np.identity(3)[t_train] # one-hot encoding for training data\n",
        "t_test_onehot = np.identity(3)[t_test] #one-hot encoding for test data\n",
        "\n",
        "#model\n",
        "input_size = x_train.shape[1]           # input_size = 2\n",
        "hidden_size = 10\n",
        "output_size = t_train_onehot.shape[1]   # output_size = 3 (3 classes)\n",
        "net = Model3_5_1(input_size, hidden_size, output_size)   # neural network model\n",
        "optimizer = SGD(learning_rate = 0.01)   # for update parameters\n",
        "\n",
        "Epoch = 10000 # the number of training\n",
        "loss = []\n",
        "\n",
        "#learning process\n",
        "for i in range(Epoch):\n",
        "    l = net.loss(x_train, t_train_onehot)   # forward calculation\n",
        "    net.backward()                          # backward propagation\n",
        "    optimizer.update(net.get_layers())      # update parameters\n",
        "    loss.append(l)                          # record current loss\n",
        "\n",
        "# draw the loss graph\n",
        "plt.plot(loss)\n",
        "plt.ylabel(\"Loss\")\n",
        "plt.show()\n",
        "\n",
        "# evaluation\n",
        "y_test = net.predict(x_test)\n",
        "y_test_pred = np.argmax(y_test, axis=1)       # pred is the label of the output given the highest probability by the network\n",
        "acc = accuracy(y_test_pred, t_test)\n",
        "print(\"accuracy=\\n\", acc, \"\\n\")"
      ],
      "metadata": {
        "id": "Ltnu_7XXe3gN",
        "outputId": "340c284f-6e51-4e56-96fa-dc25e604f272",
        "colab": {
          "base_uri": "https://localhost:8080/",
          "height": 502
        }
      },
      "execution_count": null,
      "outputs": [
        {
          "output_type": "display_data",
          "data": {
            "text/plain": [
              "<Figure size 640x480 with 1 Axes>"
            ],
            "image/png": "[encoded data removed]"
          },
          "metadata": {}
        },
        {
          "output_type": "stream",
          "name": "stdout",
          "text": [
            "accuracy=\n",
            " 0.9833333333333333 \n",
            "\n"
          ]
        }
      ]
    },
    {
      "cell_type": "code",
      "source": [
        "from sklearn.metrics import confusion_matrix, ConfusionMatrixDisplay\n",
        "\n",
        "y_test_pred = np.argmax(y_test, axis=1)     # pred is the label of the output given the highest probability by the network\n",
        "t = np.argmax(t_test_onehot, axis=1)        # t is the correct label\n",
        "class_names = [\"Setosa\", \"Versicolor\", \"Virginica\"]\n",
        "\n",
        "cm = confusion_matrix(y_pred=y_test_pred, y_true=t)\n",
        "cmp = ConfusionMatrixDisplay(cm, display_labels=class_names)\n",
        "\n",
        "cmp.plot(cmap=plt.cm.Blues)"
      ],
      "metadata": {
        "id": "N_T4DY3ee7ZS",
        "outputId": "06360c71-513e-43eb-d073-f96e94927a01",
        "colab": {
          "base_uri": "https://localhost:8080/",
          "height": 486
        }
      },
      "execution_count": null,
      "outputs": [
        {
          "output_type": "execute_result",
          "data": {
            "text/plain": [
              "<sklearn.metrics._plot.confusion_matrix.ConfusionMatrixDisplay at 0x7e5122dd2290>"
            ]
          },
          "metadata": {},
          "execution_count": 24
        },
        {
          "output_type": "display_data",
          "data": {
            "text/plain": [
              "<Figure size 640x480 with 2 Axes>"
            ],
            "image/png": "[encoded data removed]"
          },
          "metadata": {}
        }
      ]
    },
    {
      "cell_type": "markdown",
      "source": [
        "---\n",
        "# **For a deeper understanding of the Sigmoid and Softmax functions**\n",
        "---"
      ],
      "metadata": {
        "id": "HHLLESnAqSGu"
      }
    },
    {
      "cell_type": "markdown",
      "source": [
        "## Probability and Odds"
      ],
      "metadata": {
        "id": "r6YRWN2Pxth0"
      }
    },
    {
      "cell_type": "code",
      "source": [
        "import numpy as np\n",
        "import matplotlib.pyplot as plt\n",
        "\n",
        "p = np.arange(0, 1, 0.01)\n",
        "odds = p / (1-p)\n",
        "\n",
        "plt.figure(figsize=(6, 4))\n",
        "plt.plot(p, odds)\n",
        "plt.xlabel(\"Probability\")\n",
        "plt.ylabel(\"Odds\")\n",
        "plt.grid(color='r', linestyle='dotted', linewidth=1)\n",
        "plt.show()"
      ],
      "metadata": {
        "id": "f2AlOcL8qa8h",
        "outputId": "8546911c-899f-4bdb-d0e2-1f762a61d7c0",
        "colab": {
          "base_uri": "https://localhost:8080/",
          "height": 409
        }
      },
      "execution_count": null,
      "outputs": [
        {
          "output_type": "display_data",
          "data": {
            "text/plain": [
              "<Figure size 600x400 with 1 Axes>"
            ],
            "image/png": "[encoded data removed]"
          },
          "metadata": {}
        }
      ]
    },
    {
      "cell_type": "markdown",
      "source": [
        "## Logit (log-odds)"
      ],
      "metadata": {
        "id": "m9xvK7gVxwyp"
      }
    },
    {
      "cell_type": "code",
      "source": [
        "import numpy as np\n",
        "import matplotlib.pyplot as plt\n",
        "\n",
        "p = np.arange(0.01, 1, 0.01)\n",
        "logit = np.log(p / (1.0-p))\n",
        "\n",
        "plt.figure(figsize=(6, 4))\n",
        "plt.plot(p, logit)\n",
        "plt.xlabel(\"Probability\")\n",
        "plt.ylabel(\"Logit\")\n",
        "plt.grid(color='r', linestyle='dotted', linewidth=1)\n",
        "plt.show()"
      ],
      "metadata": {
        "id": "z4kEsezzxzka",
        "outputId": "a72bf20d-5940-4ae4-aad9-41e8c09c8a51",
        "colab": {
          "base_uri": "https://localhost:8080/",
          "height": 409
        }
      },
      "execution_count": null,
      "outputs": [
        {
          "output_type": "display_data",
          "data": {
            "text/plain": [
              "<Figure size 600x400 with 1 Axes>"
            ],
            "image/png": "[encoded data removed]"
          },
          "metadata": {}
        }
      ]
    },
    {
      "cell_type": "markdown",
      "source": [
        "## Sigmoid function (Standard Logistic function)"
      ],
      "metadata": {
        "id": "LKtYdG804hX7"
      }
    },
    {
      "cell_type": "code",
      "source": [
        "import numpy as np\n",
        "import matplotlib.pyplot as plt\n",
        "\n",
        "x = np.arange(-10, 10, 0.1)\n",
        "y = 1 / (1 + np.exp(-x))\n",
        "\n",
        "plt.figure(figsize=(6, 4))\n",
        "plt.plot(x, y)\n",
        "plt.xlabel(\"x\")\n",
        "plt.ylabel(\"y\")\n",
        "plt.grid(color='r', linestyle='dotted', linewidth=1)\n",
        "plt.show()"
      ],
      "metadata": {
        "id": "E4OdRuUb4gcS",
        "outputId": "db5848d5-406b-42aa-d087-746f4d5874fb",
        "colab": {
          "base_uri": "https://localhost:8080/",
          "height": 409
        }
      },
      "execution_count": null,
      "outputs": [
        {
          "output_type": "display_data",
          "data": {
            "text/plain": [
              "<Figure size 600x400 with 1 Axes>"
            ],
            "image/png": "[encoded data removed]"
          },
          "metadata": {}
        }
      ]
    }
  ]
}