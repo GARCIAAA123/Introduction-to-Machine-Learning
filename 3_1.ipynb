{
  "nbformat": 4,
  "nbformat_minor": 0,
  "metadata": {
    "colab": {
      "provenance": [],
      "include_colab_link": true
    },
    "kernelspec": {
      "name": "python3",
      "display_name": "Python 3"
    }
  },
  "cells": [
    {
      "cell_type": "markdown",
      "metadata": {
        "id": "view-in-github",
        "colab_type": "text"
      },
      "source": [
        "<a href=\"https://colab.research.google.com/github/GARCIAAA123/Introduction-to-Machine-Learning/blob/main/3_1.ipynb\" target=\"_parent\"><img src=\"https://colab.research.google.com/assets/colab-badge.svg\" alt=\"Open In Colab\"/></a>"
      ]
    },
    {
      "cell_type": "markdown",
      "metadata": {
        "id": "XL6jDiByiIz9"
      },
      "source": [
        "# **Introduction to Machine Learning Chapter 3.1**\n",
        "# **Multilayer Perceptron with Step function**\n",
        "---"
      ]
    },
    {
      "cell_type": "markdown",
      "source": [
        "## Import libraries"
      ],
      "metadata": {
        "id": "0rexds_XFuPv"
      }
    },
    {
      "cell_type": "code",
      "source": [
        "import numpy as np                  # for scientific computing (e.g. culclations with array)\n",
        "import matplotlib.pyplot as plt     # for visualization"
      ],
      "metadata": {
        "id": "K4gZokNYFtwd"
      },
      "execution_count": null,
      "outputs": []
    },
    {
      "cell_type": "markdown",
      "metadata": {
        "id": "Cviahf5sinOi"
      },
      "source": [
        "## **Example 3.1.1** Implementation of inner-product"
      ]
    },
    {
      "cell_type": "code",
      "metadata": {
        "id": "iQO8JUYRnZ_J",
        "outputId": "37a8f0fd-101b-4152-98f9-58bdc09e68bc",
        "colab": {
          "base_uri": "https://localhost:8080/"
        }
      },
      "source": [
        "x = np.array([1, 0, 1])\n",
        "w = np.array([[2],\n",
        "              [3],\n",
        "              [-1]])\n",
        "b = -2\n",
        "p = np.dot(x, w) + b\n",
        "print(p)"
      ],
      "execution_count": null,
      "outputs": [
        {
          "output_type": "stream",
          "name": "stdout",
          "text": [
            "[-1]\n"
          ]
        }
      ]
    },
    {
      "cell_type": "markdown",
      "metadata": {
        "id": "Ve5oXsHTiFoP"
      },
      "source": [
        "## **Example 3.1.2** Implementation of formal neuron model (1)"
      ]
    },
    {
      "cell_type": "code",
      "metadata": {
        "id": "VXD4cw9Cny-Z",
        "outputId": "cf4bf360-0cee-4d3a-95f3-986479326586",
        "colab": {
          "base_uri": "https://localhost:8080/"
        }
      },
      "source": [
        "x = np.array([1, 1, 0])\n",
        "w = np.array([[0.5],\n",
        "              [1.0],\n",
        "              [0.5]])\n",
        "b = -1\n",
        "\n",
        "def formal_neuron(x, w, b):\n",
        "    p = np.dot(x, w) + b\n",
        "    y = p > 0\n",
        "    return np.int64(y)  # cast from boolean to integer\n",
        "\n",
        "y = formal_neuron(x, w, b)\n",
        "print(y)"
      ],
      "execution_count": null,
      "outputs": [
        {
          "output_type": "stream",
          "name": "stdout",
          "text": [
            "[1]\n"
          ]
        }
      ]
    },
    {
      "cell_type": "markdown",
      "source": [
        "##**Example 3.1.3** Numpy broadcastiong"
      ],
      "metadata": {
        "id": "WAWQMJsCcKZk"
      }
    },
    {
      "cell_type": "code",
      "source": [
        "a = np.array([1, 2, 3]) # matrix (vector)\n",
        "b = 2 # scalar\n",
        "\n",
        "print(a * b)"
      ],
      "metadata": {
        "id": "gRijnOVKeRQ5",
        "outputId": "65958bbe-8911-4c82-cf3c-7bd4c5ffa97b",
        "colab": {
          "base_uri": "https://localhost:8080/"
        }
      },
      "execution_count": null,
      "outputs": [
        {
          "output_type": "stream",
          "name": "stdout",
          "text": [
            "[2 4 6]\n"
          ]
        }
      ]
    },
    {
      "cell_type": "markdown",
      "metadata": {
        "id": "dv5YiQ6zzvyx"
      },
      "source": [
        "## **Example 3.1.4** Implementation of formal neuron model (2)"
      ]
    },
    {
      "cell_type": "code",
      "metadata": {
        "id": "EIFSy2CuzydZ",
        "outputId": "30303eee-cba4-4f7a-b98a-444682304573",
        "colab": {
          "base_uri": "https://localhost:8080/"
        }
      },
      "source": [
        "x = np.array([[0,0,0],\n",
        "              [0,0,1],\n",
        "              [0,1,0],\n",
        "              [0,1,1],\n",
        "              [1,0,0],\n",
        "              [1,0,1],\n",
        "              [1,1,0],\n",
        "              [1,1,1]])\n",
        "w = np.array([[0.5],\n",
        "              [1.0],\n",
        "              [0.5]])\n",
        "b = -1\n",
        "\n",
        "def formal_neuron(x, w, b):\n",
        "    p = np.dot(x, w) + b\n",
        "    y = p > 0\n",
        "    return np.int64(y)\n",
        "\n",
        "y = formal_neuron(x, w, b)\n",
        "print(y)"
      ],
      "execution_count": null,
      "outputs": [
        {
          "output_type": "stream",
          "name": "stdout",
          "text": [
            "[[0]\n",
            " [0]\n",
            " [0]\n",
            " [1]\n",
            " [0]\n",
            " [0]\n",
            " [1]\n",
            " [1]]\n"
          ]
        }
      ]
    },
    {
      "cell_type": "markdown",
      "metadata": {
        "id": "vX6oLpWT-QPP"
      },
      "source": [
        "## 🤔 **Exercise 3.1.1**"
      ]
    },
    {
      "cell_type": "code",
      "metadata": {
        "id": "BK1rL-6Y-URo",
        "outputId": "ee555e41-c841-4273-fde3-8fdf6bb2f680",
        "colab": {
          "base_uri": "https://localhost:8080/"
        }
      },
      "source": [
        "x = [[1,0,1],\n",
        "    [0,1,0],\n",
        "    [1,1,1]]\n",
        "w =[[0.6],\n",
        "    [-1.5],\n",
        "    [1.0]]\n",
        "b = -1\n",
        "\n",
        "def formal_neuron(x, w, b):\n",
        "    p = np.dot(x, w) + b\n",
        "    y = p > 0\n",
        "    return np.int64(y)\n",
        "\n",
        "y = formal_neuron(x, w, b)\n",
        "print(y)"
      ],
      "execution_count": null,
      "outputs": [
        {
          "output_type": "stream",
          "name": "stdout",
          "text": [
            "[[1]\n",
            " [0]\n",
            " [0]]\n"
          ]
        }
      ]
    },
    {
      "cell_type": "markdown",
      "metadata": {
        "id": "vLLXJvza-Y0E"
      },
      "source": [
        "## **Example 3.1.5** Implementation of formal neuron model (3)"
      ]
    },
    {
      "cell_type": "code",
      "metadata": {
        "id": "uydGdr5B-X0N"
      },
      "source": [
        "x = np.array([[0,0,0],\n",
        "              [0,0,1],\n",
        "              [0,1,0],\n",
        "              [0,1,1],\n",
        "              [1,0,0],\n",
        "              [1,0,1],\n",
        "              [1,1,0],\n",
        "              [1,1,1]])\n",
        "w = np.array([[0.5, 0.0],\n",
        "              [1.0, 0.5],\n",
        "              [0.5, 1.0]])\n",
        "b = np.array([-0.5, -1.0])\n",
        "\n",
        "def formal_neuron(x, w, b):\n",
        "    p = np.dot(x, w) + b\n",
        "    y = p > 0\n",
        "    return np.int64(y)\n",
        "\n",
        "y = formal_neuron(x, w, b)\n",
        "print(y)"
      ],
      "execution_count": null,
      "outputs": []
    },
    {
      "cell_type": "markdown",
      "metadata": {
        "id": "DLrhwgyrAr81"
      },
      "source": [
        "## 🤔 **Exercise 3.1.2**"
      ]
    },
    {
      "cell_type": "code",
      "metadata": {
        "id": "dsp-Qd6ZAvCR",
        "outputId": "327da3cb-486f-46da-b69d-8149349dc864",
        "colab": {
          "base_uri": "https://localhost:8080/"
        }
      },
      "source": [
        "x = [[1,0,1],\n",
        "    [0,1,0],\n",
        "    [1,1,1],\n",
        "    [0,1,1]]\n",
        "w =[[2,-1,3],\n",
        "    [0,4,1],\n",
        "    [-4,2,-2]]\n",
        "b = [[-2,0, -1]]\n",
        "\n",
        "def formal_neuron(x, w, b):\n",
        "    p = np.dot(x, w) + b\n",
        "    y = p > 0\n",
        "    return np.int64(y)\n",
        "\n",
        "y = formal_neuron(x, w, b)\n",
        "print(y)"
      ],
      "execution_count": null,
      "outputs": [
        {
          "output_type": "stream",
          "name": "stdout",
          "text": [
            "[[0 1 0]\n",
            " [0 1 0]\n",
            " [0 1 1]\n",
            " [0 1 0]]\n"
          ]
        }
      ]
    },
    {
      "cell_type": "markdown",
      "metadata": {
        "id": "PAdtNqOcrrTV"
      },
      "source": [
        "## **Example 3.1.6** Implementing Linear class and Step class"
      ]
    },
    {
      "cell_type": "code",
      "metadata": {
        "id": "7bDWbjrXrqZ2",
        "outputId": "7eeaa48a-961f-44cf-9db3-d4efa91cbf62",
        "colab": {
          "base_uri": "https://localhost:8080/"
        }
      },
      "source": [
        "import numpy as np\n",
        "\n",
        "class Linear:\n",
        "  #constructor\n",
        "  def __init__(self, w, b):\n",
        "    self.w = w\n",
        "    self.b = b\n",
        "\n",
        "  #calculate output from input\n",
        "  def forward(self, x):\n",
        "    p = np.dot(x, self.w) + self.b\n",
        "    return p\n",
        "\n",
        "class Step:\n",
        "  def forward(self, x):\n",
        "    y = x > 0\n",
        "    return np.int64(y)\n",
        "\n",
        "x = np.array([[0,0,0],\n",
        "              [0,0,1],\n",
        "              [0,1,0],\n",
        "              [0,1,1],\n",
        "              [1,0,0],\n",
        "              [1,0,1],\n",
        "              [1,1,0],\n",
        "              [1,1,1]])\n",
        "w = np.array([[0.5, 0.0],\n",
        "              [1.0, 0.5],\n",
        "              [0.5, 1.0]])\n",
        "b = np.array([-0.5, -1.0])\n",
        "\n",
        "linear = Linear(w,b)\n",
        "step = Step()\n",
        "\n",
        "p = linear.forward(x)\n",
        "y = step.forward(p)\n",
        "\n",
        "print(y)"
      ],
      "execution_count": null,
      "outputs": [
        {
          "output_type": "stream",
          "name": "stdout",
          "text": [
            "[[0 0]\n",
            " [0 0]\n",
            " [1 0]\n",
            " [1 1]\n",
            " [0 0]\n",
            " [1 0]\n",
            " [1 0]\n",
            " [1 1]]\n"
          ]
        }
      ]
    },
    {
      "cell_type": "markdown",
      "metadata": {
        "id": "p75TMv_JEYtu"
      },
      "source": [
        "## 🤔 **Exercise 3.1.3**"
      ]
    },
    {
      "cell_type": "code",
      "metadata": {
        "id": "hl7j6UMoEX0q",
        "outputId": "a205dc44-061f-4f31-bb1f-6d63ed668ea7",
        "colab": {
          "base_uri": "https://localhost:8080/"
        }
      },
      "source": [
        "x=[[0,1,1,1],\n",
        "   [0,1,0,0],\n",
        "   [1,1,0,0]]\n",
        "w=[[-2,0,2,2],\n",
        "   [-1,2,1,-1],\n",
        "   [4,-3,1,0],\n",
        "   [1,1,0,-3]]\n",
        "b= [[-1,0,0,-2]]\n",
        "\n",
        "linear = Linear(w,b)\n",
        "step = Step()\n",
        "\n",
        "p = linear.forward(x)\n",
        "y = step.forward(p)\n",
        "print(y)"
      ],
      "execution_count": null,
      "outputs": [
        {
          "output_type": "stream",
          "name": "stdout",
          "text": [
            "[[1 0 1 0]\n",
            " [0 1 1 0]\n",
            " [0 1 1 0]]\n"
          ]
        }
      ]
    },
    {
      "cell_type": "markdown",
      "metadata": {
        "id": "ifNFnliJEdav"
      },
      "source": [
        "## **Example 3.1.7** Implementation of MLP model"
      ]
    },
    {
      "cell_type": "code",
      "metadata": {
        "id": "-l9cp1-9EuCj"
      },
      "source": [
        "class Linear:\n",
        "  def __init__(self, w, b):\n",
        "    self.w = w\n",
        "    self.b = b\n",
        "\n",
        "  def forward(self, x):\n",
        "    p = np.dot(x, self.w) + self.b\n",
        "    return p\n",
        "\n",
        "class Step:\n",
        "  def forward(self, x):\n",
        "    y = x > 0\n",
        "    return np.int64(y)\n",
        "\n",
        "x = np.array([[0,0,0],\n",
        "              [0,0,1],\n",
        "              [0,1,0],\n",
        "              [0,1,1],\n",
        "              [1,0,0],\n",
        "              [1,0,1],\n",
        "              [1,1,0],\n",
        "              [1,1,1]])\n",
        "w = np.array([[0.5, 1.0, 1.0],\n",
        "              [1.0, 0.5, 0.5],\n",
        "              [0.5, 1.0, 0.0]])\n",
        "b = np.array([-0.5, -1.5, -1.0])\n",
        "u = np.array([[1.0, 0.5],\n",
        "              [0.5, 0.0],\n",
        "              [0.0, 1.0]])\n",
        "c = np.array([-1.0, 0.0])\n",
        "\n",
        "linear1 = Linear(w,b)\n",
        "step1 = Step()\n",
        "linear2 = Linear(u,c)\n",
        "step2 = Step()\n",
        "\n",
        "p = linear1.forward(x)\n",
        "y = step1.forward(p)\n",
        "q = linear2.forward(y)\n",
        "z = step2.forward(q)\n",
        "\n",
        "print(y)\n",
        "print(z)"
      ],
      "execution_count": null,
      "outputs": []
    },
    {
      "cell_type": "markdown",
      "metadata": {
        "id": "DUGC8NopMABS"
      },
      "source": [
        "## 🤔 **Exercise 3.1.4**"
      ]
    },
    {
      "cell_type": "code",
      "metadata": {
        "id": "M0ybkp89MB0q",
        "outputId": "3f7997b0-7ac5-4918-c2f4-27f15ee918f3",
        "colab": {
          "base_uri": "https://localhost:8080/"
        }
      },
      "source": [
        "x=[[1,1,1],\n",
        "   [0,1,0],\n",
        "   [1,0,0],\n",
        "   [1,0,1]]\n",
        "\n",
        "w= [[-2,1,0,1],\n",
        "    [0,1,-2,-1],\n",
        "    [1,0,1,1]]\n",
        "\n",
        "b=[[-2,1,0,-1]]\n",
        "\n",
        "u=[[4,1],\n",
        "   [2,3],\n",
        "   [0,1],\n",
        "   [3,1]]\n",
        "\n",
        "c=[[-2,-4]]\n",
        "\n",
        "linear1 = Linear(w, b)\n",
        "step = Step()\n",
        "linear2 = Linear(u, c)\n",
        "\n",
        "p = linear1.forward(x)\n",
        "y = step.forward(p)\n",
        "q = linear2.forward(y)\n",
        "z = step.forward(q)\n",
        "\n",
        "print(y)\n",
        "print(z)"
      ],
      "execution_count": null,
      "outputs": [
        {
          "output_type": "stream",
          "name": "stdout",
          "text": [
            "[[0 1 0 0]\n",
            " [0 1 0 0]\n",
            " [0 1 0 0]\n",
            " [0 1 1 1]]\n",
            "[[0 0]\n",
            " [0 0]\n",
            " [0 0]\n",
            " [1 1]]\n"
          ]
        }
      ]
    }
  ]
}