{
  "nbformat": 4,
  "nbformat_minor": 0,
  "metadata": {
    "colab": {
      "provenance": [],
      "include_colab_link": true
    },
    "kernelspec": {
      "name": "python3",
      "display_name": "Python 3"
    }
  },
  "cells": [
    {
      "cell_type": "markdown",
      "metadata": {
        "id": "view-in-github",
        "colab_type": "text"
      },
      "source": [
        "<a href=\"https://colab.research.google.com/github/GARCIAAA123/Introduction-to-Machine-Learning/blob/main/4_1.ipynb\" target=\"_parent\"><img src=\"https://colab.research.google.com/assets/colab-badge.svg\" alt=\"Open In Colab\"/></a>"
      ]
    },
    {
      "cell_type": "markdown",
      "metadata": {
        "id": "KauWAIdDkX2X"
      },
      "source": [
        "# **Introduction to Machine Learning Chapter 4.1**\n",
        "# **Backpropagation  - How to determine the weights and the biases -**\n",
        "---"
      ]
    },
    {
      "cell_type": "markdown",
      "source": [
        "## inport libraries"
      ],
      "metadata": {
        "id": "Y7giNs-DIA8-"
      }
    },
    {
      "cell_type": "code",
      "source": [
        "import numpy as np                  # for scientific computing (e.g. culclations with array)\n",
        "import pandas as pd                 # for data manipulation and analysis\n",
        "import matplotlib.pyplot as plt     # for visualization"
      ],
      "metadata": {
        "id": "mnGEJKpzH_Zu"
      },
      "execution_count": null,
      "outputs": []
    },
    {
      "cell_type": "markdown",
      "source": [
        "## Define classes and functions"
      ],
      "metadata": {
        "id": "XfggF_zywcJ8"
      }
    },
    {
      "cell_type": "code",
      "source": [
        "class Linear:\n",
        "  def __init__(self, w, b):\n",
        "    self.w = w # weight\n",
        "    self.b = b # bias\n",
        "\n",
        "  def forward(self, x):\n",
        "    p = np.dot(x, self.w) + self.b\n",
        "    return p\n",
        "\n",
        "class Sigmoid:\n",
        "  def forward(self, x):\n",
        "    y = 1 / (1 + np.exp(-x))\n",
        "    return y\n",
        "\n",
        "# Binary Crossentropy function\n",
        "def binary_crossentropy(t, y):\n",
        "    bce = -1 * np.sum(t * np.log(y) + (1 - t)*np.log(1 - y)) / y.shape[0]\n",
        "    return bce\n",
        "\n",
        "# Mean Squared Error function\n",
        "def mean_squared_error(t, y):\n",
        "    mse =  np.sum((y - t) ** 2) / y.shape[0]\n",
        "    return mse\n"
      ],
      "metadata": {
        "id": "_kK2FJwuwbsZ"
      },
      "execution_count": null,
      "outputs": []
    },
    {
      "cell_type": "markdown",
      "source": [
        "## **Example 4.1** Basic idea for training neural network"
      ],
      "metadata": {
        "id": "epfSR8APnav6"
      }
    },
    {
      "cell_type": "code",
      "source": [
        "np.set_printoptions(precision=4) #　Display up to 3 decimal places\n",
        "\n",
        "x = np.array([[0,0],\n",
        "              [0,1],\n",
        "              [1,0],\n",
        "              [1,1]])\n",
        "w = np.array([[0.2],\n",
        "              [-0.6]])\n",
        "b = np.array([0])\n",
        "\n",
        "t = np.array([[0],\n",
        "              [0],\n",
        "              [0],\n",
        "              [1]])\n",
        "\n",
        "linear1 = Linear(w,b)\n",
        "sigmoid1 = Sigmoid()\n",
        "\n",
        "p = linear1.forward(x)\n",
        "y = sigmoid1.forward(p)\n",
        "\n",
        "print(y)"
      ],
      "metadata": {
        "id": "UoLe4hKZlyJQ",
        "outputId": "49e76e5f-9e20-41c8-927d-a8b00ca21ba7",
        "colab": {
          "base_uri": "https://localhost:8080/"
        }
      },
      "execution_count": null,
      "outputs": [
        {
          "output_type": "stream",
          "name": "stdout",
          "text": [
            "[[0.5   ]\n",
            " [0.3543]\n",
            " [0.5498]\n",
            " [0.4013]]\n"
          ]
        }
      ]
    },
    {
      "cell_type": "markdown",
      "source": [
        "## Binary Crossentropy"
      ],
      "metadata": {
        "id": "TqxXcR1gRuCi"
      }
    },
    {
      "cell_type": "code",
      "source": [
        "print(binary_crossentropy(t, y))"
      ],
      "metadata": {
        "id": "NbXNU0mzwcjB",
        "outputId": "c2242e83-a0b1-45c7-8b50-79e69b2a7162",
        "colab": {
          "base_uri": "https://localhost:8080/"
        }
      },
      "execution_count": null,
      "outputs": [
        {
          "output_type": "stream",
          "name": "stdout",
          "text": [
            "0.7104473132068438\n"
          ]
        }
      ]
    },
    {
      "cell_type": "markdown",
      "source": [
        "### Mean Squared Error (MSE)"
      ],
      "metadata": {
        "id": "7d1qjHGRsyhA"
      }
    },
    {
      "cell_type": "code",
      "source": [
        "print((y - t) ** 2)\n",
        "mse =  np.sum((y - t) ** 2) / y.shape[0]\n",
        "print(mse)"
      ],
      "metadata": {
        "id": "cqI-7Kc_s2Nc",
        "outputId": "2b3de311-0bba-484a-9b5b-0c656e624557",
        "colab": {
          "base_uri": "https://localhost:8080/"
        }
      },
      "execution_count": null,
      "outputs": [
        {
          "output_type": "stream",
          "name": "stdout",
          "text": [
            "[[0.25  ]\n",
            " [0.1256]\n",
            " [0.3023]\n",
            " [0.3584]]\n",
            "0.259075948072272\n"
          ]
        }
      ]
    },
    {
      "cell_type": "markdown",
      "metadata": {
        "id": "FCjz7BciaDuu"
      },
      "source": [
        "## 🤔 **Exercise 4.1**\n",
        "Find weights and biases so that the binary crossentropy loss is less than 0.1. Write down the values of weights, bias binary cross entropy.\n",
        "\n",
        "w = np.array([[12], [12]])\n",
        "\n",
        "b = np.array([-15])\n",
        "\n",
        "Binary Crossentropy = 0.024324602809870262"
      ]
    },
    {
      "cell_type": "markdown",
      "source": [
        "---\n",
        "# **Backpropagation**\n",
        "---"
      ],
      "metadata": {
        "id": "oysXA2DXC2Zm"
      }
    },
    {
      "cell_type": "markdown",
      "source": [
        "## 🤔 **Exercise 4.2**\n",
        "\n",
        "Calculate the differential of each of the Linear, Sigmoid, and MSE functions. You do not need to submit this exercise.\n",
        "\n",
        "Linear: p = X * W + B = x1 * w1 + x2 * w2 + b dp/dx1 = w1 dp/dw1 = x1 dp/b = 1\n",
        "\n",
        "Sigmoid function: y = S(p) = 1 / (1 - e ^ -p) dy/dp = y * (1 - y)"
      ],
      "metadata": {
        "id": "M-PMv6f0HZyT"
      }
    },
    {
      "cell_type": "markdown",
      "source": [
        "---\n",
        "# **Implementation for Backward Calculation**\n",
        "---"
      ],
      "metadata": {
        "id": "dmyp75guC9Bt"
      }
    },
    {
      "cell_type": "markdown",
      "metadata": {
        "id": "zx9mHsurEWBI"
      },
      "source": [
        "## **Example 4.2** Implementing backward calculation"
      ]
    },
    {
      "cell_type": "code",
      "metadata": {
        "id": "j4gcWP4hEY3n"
      },
      "source": [
        "class Linear:\n",
        "    def __init__(self, w, b):\n",
        "        self.w = w # weights\n",
        "        self.b = b # biases\n",
        "        self.x = None\n",
        "        self.dw = None # gradient of w\n",
        "        self.db = None # gradient of b\n",
        "\n",
        "    def forward(self, x):\n",
        "        self.x = x\n",
        "        p = np.dot(x, self.w) + self.b    # Affine mapping\n",
        "        return p\n",
        "\n",
        "    def backward(self, dL0):\n",
        "        dL = np.dot(dL0, self.w.T)        # dL/dx\n",
        "        self.dw = np.dot(self.x.T, dL0)   # dL/dw\n",
        "        self.db = np.sum(dL0, axis=0)     # dL/db\n",
        "        return dL\n",
        "\n",
        "    def get_params(self):\n",
        "        return [self.w, self.b]\n",
        "\n",
        "    def get_grads(self):\n",
        "        return [self.dw, self.db]\n",
        "\n",
        "class Sigmoid:\n",
        "    def __init__(self):\n",
        "        self.y = None\n",
        "\n",
        "    def forward(self, x):\n",
        "        y = 1 / (1 + np.exp(-x))  # Sigmoid function\n",
        "        self.y = y\n",
        "        return y\n",
        "\n",
        "    def backward(self, dL0):\n",
        "        dL = dL0 * self.y * (1.0 - self.y)  #dL/dp\n",
        "        return dL\n",
        "\n",
        "    def get_params(self):\n",
        "        return []\n",
        "\n",
        "    def get_grads(self):\n",
        "        return []\n",
        "\n",
        "# class MSE:\n",
        "#     def __init__(self):\n",
        "#         self.y = None\n",
        "#         self.t = None\n",
        "\n",
        "#     def forward(self, y, t):\n",
        "#         self.y = y\n",
        "#         self.t = t\n",
        "#         row, col = y.shape # row:data_num, col:input dimension\n",
        "#         loss = np.sum((y-t) ** 2) / row\n",
        "#         return loss\n",
        "\n",
        "#     def backward(self):\n",
        "#         dL = self.y - self.t    #dL/dz\n",
        "#         return dL\n",
        "\n",
        "class BinaryCrossentropy:\n",
        "    def __init__(self):\n",
        "        self.y = None\n",
        "        self.t = None\n",
        "\n",
        "    def forward(self, y, t):\n",
        "        self.y = y\n",
        "        self.t = t\n",
        "\n",
        "        loss = -1 * np.sum(t * np.log(y) + (1 - t)*np.log(1 - y))\n",
        "        return loss\n",
        "\n",
        "    def backward(self):\n",
        "        dL = -1 * self.t / (self.y) + (1 - self.t) / (1 - self.y)\n",
        "        dL = dL / self.y.shape[0]  # divide by N\n",
        "        return dL"
      ],
      "execution_count": null,
      "outputs": []
    },
    {
      "cell_type": "markdown",
      "source": [
        "## **Example 4.3** Implementing optimizer (Update function)"
      ],
      "metadata": {
        "id": "GaoQB0UiCRcK"
      }
    },
    {
      "cell_type": "code",
      "source": [
        "class SGD:\n",
        "    def __init__(self, learning_rate=0.01):\n",
        "        self.learning_rate = learning_rate\n",
        "\n",
        "    def update(self, layers):\n",
        "        for layer in layers.values():\n",
        "            for (param, grad) in zip(layer.get_params(), layer.get_grads()):\n",
        "                param -= self.learning_rate * grad # Gradient descent"
      ],
      "metadata": {
        "id": "qp0pc26e44fw"
      },
      "execution_count": null,
      "outputs": []
    },
    {
      "cell_type": "markdown",
      "source": [
        "---\n",
        "# **Model examples**\n",
        "---"
      ],
      "metadata": {
        "id": "iuJzz_5nchhb"
      }
    },
    {
      "cell_type": "markdown",
      "source": [
        "## **Example 4.4** Implementing Model1 class (one linear layer)"
      ],
      "metadata": {
        "id": "nvZVu9gtaGPX"
      }
    },
    {
      "cell_type": "code",
      "source": [
        "from collections import OrderedDict\n",
        "\n",
        "class Model1:\n",
        "    def __init__(self, input_size, output_size):\n",
        "\n",
        "        W1 = np.random.randn(input_size, output_size)   # initialize with random value\n",
        "        b1 = np.zeros(output_size)                      # initialize with 0\n",
        "\n",
        "        # model definition\n",
        "        self.layers = OrderedDict()\n",
        "        self.layers['linear1'] = Linear(W1, b1)     # Linear layer\n",
        "        self.layers['sigmoid1'] = Sigmoid()         # Sigmoid layer\n",
        "        self.loss_layer = BinaryCrossentropy()      # BinaryCrossentropy\n",
        "\n",
        "    def get_layers(self):\n",
        "        return self.layers\n",
        "\n",
        "    # forward calculation\n",
        "    def predict(self, x):\n",
        "        for layer in self.layers.values():\n",
        "            x = layer.forward(x)\n",
        "        return x\n",
        "\n",
        "    def loss(self, x, t):\n",
        "        y = self.predict(x)\n",
        "        return self.loss_layer.forward(y, t)  # get Loss and return\n",
        "\n",
        "    # backward calculation\n",
        "    def backward(self):\n",
        "        dL = self.loss_layer.backward() # MSE layer\n",
        "        for layer in reversed(self.layers.values()):\n",
        "            dL = layer.backward(dL)"
      ],
      "metadata": {
        "id": "GAL3XwCM9TOT"
      },
      "execution_count": null,
      "outputs": []
    },
    {
      "cell_type": "markdown",
      "source": [
        "## **Example 4.5** Training for AND function with Model1"
      ],
      "metadata": {
        "id": "y6bV_JFuaLWO"
      }
    },
    {
      "cell_type": "code",
      "source": [
        "# inputs\n",
        "x = np.array([[0, 0],\n",
        "              [0, 1],\n",
        "              [1, 0],\n",
        "              [1, 1]])\n",
        "\n",
        "# labels (AND function)\n",
        "t = np.array([[0],\n",
        "              [0],\n",
        "              [0],\n",
        "              [1]])\n",
        "\n",
        "#model\n",
        "input_size = x.shape[1]     # the num of input column\n",
        "output_size = t.shape[1]    # the num of target column\n",
        "net = Model1(input_size, output_size)   # neural network model\n",
        "optimizer = SGD(learning_rate = 0.1) # for update parameters\n",
        "\n",
        "Epoch = 1000    # the number of training\n",
        "loss = []       # for recording loss values at each epoch\n",
        "\n",
        "#learning process\n",
        "for i in range(Epoch):\n",
        "    l = net.loss(x, t)                  # forward calculation\n",
        "    net.backward()                      # backward propagation\n",
        "    optimizer.update(net.get_layers())  # update parameters\n",
        "    loss.append(l)                      # record current loss\n",
        "\n",
        "# draw the loss graph\n",
        "plt.plot(loss)\n",
        "plt.ylabel(\"Loss\")\n",
        "plt.xlabel(\"Epoch\")\n",
        "plt.show()\n",
        "\n",
        "y = net.predict(x)\n",
        "print(\"y=\\n\", y, \"\\n\")"
      ],
      "metadata": {
        "id": "YAojVQN_9Ccu",
        "outputId": "8fb4d4fb-7c13-4724-b4a2-ae6743485809",
        "colab": {
          "base_uri": "https://localhost:8080/",
          "height": 569
        }
      },
      "execution_count": null,
      "outputs": [
        {
          "output_type": "display_data",
          "data": {
            "text/plain": [
              "<Figure size 640x480 with 1 Axes>"
            ],
            "image/png": "[encoded data removed]"
          },
          "metadata": {}
        },
        {
          "output_type": "stream",
          "name": "stdout",
          "text": [
            "y=\n",
            " [[0.0075]\n",
            " [0.1455]\n",
            " [0.1448]\n",
            " [0.7931]] \n",
            "\n"
          ]
        }
      ]
    },
    {
      "cell_type": "markdown",
      "metadata": {
        "id": "CBd8_WKJecMF"
      },
      "source": [
        "## **Example 4.6** Implementing Model2 class (two linear layers)"
      ]
    },
    {
      "cell_type": "code",
      "source": [
        "from collections import OrderedDict\n",
        "\n",
        "class Model2:\n",
        "    def __init__(self, input_size, hidden_size, output_size):\n",
        "        #initialize weights and biases\n",
        "        W1 = np.random.randn(input_size, hidden_size)  #initialize weights with random value\n",
        "        b1 = np.zeros(hidden_size)  #initialize biases with 0\n",
        "        W2 = np.random.randn(hidden_size, output_size)  #initialize weights with random value\n",
        "        b2 = np.zeros(output_size)  #initialize biases with 0\n",
        "\n",
        "        #neural network model definition\n",
        "        self.layers = OrderedDict()\n",
        "        self.layers['linear1'] = Linear(W1, b1) # Linear layer\n",
        "        self.layers['sigmoid1'] = Sigmoid()     # Sigmoid layer\n",
        "        self.layers['linear2'] = Linear(W2, b2) # Linear layer\n",
        "        self.layers['sigmoid2'] = Sigmoid()     # Sigmoid layer\n",
        "        self.loss_layer = BinaryCrossentropy()  # Binary Crossentropy layer\n",
        "\n",
        "    def get_layers(self):\n",
        "        return self.layers\n",
        "\n",
        "    # forward calculation\n",
        "    def predict(self, x):\n",
        "        for layer in self.layers.values():\n",
        "            x = layer.forward(x)\n",
        "        return x\n",
        "\n",
        "    def loss(self, x, t):\n",
        "        y = self.predict(x)\n",
        "        return self.loss_layer.forward(y, t)  # get Loss and return\n",
        "\n",
        "    # backward calculation\n",
        "    def backward(self):\n",
        "        dL = self.loss_layer.backward() # MSE layer\n",
        "        for layer in reversed(self.layers.values()):\n",
        "            dL = layer.backward(dL)"
      ],
      "metadata": {
        "id": "xv-LnKfM9ppK"
      },
      "execution_count": null,
      "outputs": []
    },
    {
      "cell_type": "markdown",
      "source": [
        "## **Example 4.7** Learning XOR function with Model2\n"
      ],
      "metadata": {
        "id": "B78UIz7Tbxqn"
      }
    },
    {
      "cell_type": "code",
      "metadata": {
        "id": "7rrWyBxQs0Je",
        "outputId": "e580b4f6-140f-4519-f365-070d1208b2b3",
        "colab": {
          "base_uri": "https://localhost:8080/",
          "height": 554
        }
      },
      "source": [
        "# inputs\n",
        "x = np.array([[0, 0],\n",
        "              [0, 1],\n",
        "              [1, 0],\n",
        "              [1, 1]])\n",
        "\n",
        "#correct answers (labels)\n",
        "t = np.array([[0],\n",
        "              [1],\n",
        "              [1],\n",
        "              [0]])\n",
        "\n",
        "#model\n",
        "input_size = x.shape[1]\n",
        "hidden_size = 2         # hyper parameter\n",
        "output_size = t.shape[1]\n",
        "net = Model2(input_size, hidden_size, output_size)  # neural network model\n",
        "optimizer = SGD(learning_rate = 0.1)                # for update parameters\n",
        "\n",
        "Epoch = 10000    # the number of training\n",
        "loss = []       # for recording loss values at each epoch\n",
        "\n",
        "#learning process\n",
        "for i in range(Epoch):\n",
        "    l = net.loss(x, t)                  # forward calculation\n",
        "    net.backward()                      # backward propagation\n",
        "    optimizer.update(net.get_layers())  # update parameters\n",
        "    loss.append(l)                      # record current loss\n",
        "\n",
        "# draw the loss graph\n",
        "plt.plot(loss)\n",
        "plt.ylabel(\"Loss\")\n",
        "plt.show()\n",
        "\n",
        "y = net.predict(x)\n",
        "print(\"y=\\n\", y, \"\\n\")"
      ],
      "execution_count": null,
      "outputs": [
        {
          "output_type": "display_data",
          "data": {
            "text/plain": [
              "<Figure size 640x480 with 1 Axes>"
            ],
            "image/png": "[encoded data removed]"
          },
          "metadata": {}
        },
        {
          "output_type": "stream",
          "name": "stdout",
          "text": [
            "y=\n",
            " [[0.0421]\n",
            " [0.9451]\n",
            " [0.9477]\n",
            " [0.0364]] \n",
            "\n"
          ]
        }
      ]
    },
    {
      "cell_type": "markdown",
      "source": [
        "## 🤔 **Exercise 4.3**\n",
        "\n",
        "Construct a neural network with 2 input copy nodes, 2 hidden neurons, and 2 output neurons using Model2 class. Then learning the neural network for HA (Half adder) function based on the backpropagation algorithm. The truth table for HA is shown below. After learning, please check the loss graph, outputs, weights and biases.\n",
        "\n",
        "![image.png](data:image/png;base64,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)"
      ],
      "metadata": {
        "id": "OM5R96gmKaGq"
      }
    },
    {
      "cell_type": "code",
      "source": [
        "# inputs\n",
        "x = np.array([[0, 0],\n",
        "              [0, 1],\n",
        "              [1, 0],\n",
        "              [1, 1]])\n",
        "\n",
        "#correct answers (labels)\n",
        "t = np.array([[0, 0],\n",
        "              [1, 0],\n",
        "              [1, 0],\n",
        "              [0, 1]])\n",
        "\n",
        "#model\n",
        "input_size = x.shape[1]\n",
        "hidden_size = 2         # hyper parameter\n",
        "output_size = t.shape[1]\n",
        "net = Model2(input_size, hidden_size, output_size)  # neural network model\n",
        "optimizer = SGD(learning_rate = 0.1)                # for update parameters\n",
        "\n",
        "Epoch = 5000    # the number of training\n",
        "loss = []       # for recording loss values at each epoch\n",
        "\n",
        "#learning process\n",
        "for i in range(Epoch):\n",
        "    l = net.loss(x, t)                  # forward calculation\n",
        "    net.backward()                      # backward propagation\n",
        "    optimizer.update(net.get_layers())  # update parameters\n",
        "    loss.append(l)                      # record current loss\n",
        "\n",
        "# draw the loss graph\n",
        "plt.plot(loss)\n",
        "plt.ylabel(\"Loss\")\n",
        "plt.show()\n",
        "\n",
        "y = net.predict(x)\n",
        "print(\"y=\\n\", y, \"\\n\")"
      ],
      "metadata": {
        "id": "K6OzuPO9Klfq",
        "outputId": "0bbf4990-3ea8-441f-e5ef-653d58af37b9",
        "colab": {
          "base_uri": "https://localhost:8080/",
          "height": 550
        }
      },
      "execution_count": null,
      "outputs": [
        {
          "output_type": "display_data",
          "data": {
            "text/plain": [
              "<Figure size 640x480 with 1 Axes>"
            ],
            "image/png": "[encoded data removed]"
          },
          "metadata": {}
        },
        {
          "output_type": "stream",
          "name": "stdout",
          "text": [
            "y=\n",
            " [[3.9113e-02 1.9318e-04]\n",
            " [9.5370e-01 1.7722e-02]\n",
            " [9.5375e-01 1.7748e-02]\n",
            " [3.8223e-02 9.7571e-01]] \n",
            "\n"
          ]
        }
      ]
    },
    {
      "cell_type": "markdown",
      "source": [
        "## 🤔 **Exercise 4.4**\n",
        "\n",
        "Construct a neural network with 3 input copy nodes, 3 hidden neurons, and 1 output neuron using Model2 class. Then learning the neural network for 3-input XOR function. The truth table for 3-input XOR is shown below. After learning, please check the loss graph, outputs, weights and biases.\n",
        "\n",
        "![image.png](data:image/png;base64,iVBORw0KGgoAAAANSUhEUgAAAj0AAAEACAYAAABYncfvAAAAAXNSR0IArs4c6QAAAARnQU1BAACxjwv8YQUAAAAJcEhZcwAADsMAAA7DAcdvqGQAAFybSURBVHhe7Z0HvBTV/bcPF7j0jgWQLm+MDUWkCPYIGFEUFBGJMTZEbEFsgBojIjZiNDbQf9RYAY0YLGCiiCAIWIMmRunFQpOu1Pc+586BYdndu31nd7/Ph2F3zszOnJ3du+c7v3bK7SzBCCGEEELkOUXeoxBCCCFEXiPRI4QQQoiCQKJHCCGEEAWBRI8QQgghCgKJHiGEEEIUBBI9QgghhCgIJHqEEDExbdo0U65cuV1Lt27dvC3hcfvzGBQi9emKK67Y6/343ysL+/h58cUX99rnnnvu8bYKIYKIRI8QIiaOPfZYQ1kvt0yaNClwg7wTNZHo3LmzGTBggLnwwgu9ltLXPProo2bYsGG71jnG3Xffvcf7nTx5sjnwwAPtPn7c9nnz5pkbb7xRwkeIACPRI4SICQZ2P127djULFy701vYGgcFreAwSjzzyiBUoTpwggBBCrp9u/YYbbrDrDkQPr8PCE44WLVrY173zzjteixAiaEj0CCHiBmsIlp6+fft6LXszf/58azFxriREBi4kHp07yO9SchYW9+gWjuPA0hJqSXGvoR1rlGsLfa0frDjOKoOQQQgB+7Me7n0hahB6U6dO9VqEELmGRI8QIib8YgRx8f7778dtxUEoYR1yLqFwLjIsLW47lpOWLVt6W6KDZYY+gXs9QiUc7MtxET4vvPCC12rM8uXL7WPDhg3tYygcL5KQ4vrgJvO7zoQQwUKiRwgRE85d5RaET2hwb1kgNJxVBcK5yHAjOQYPHmwfERSpBosOLF682D4mil8Icsw+ffp4W4QQQUOiRwiREFhIsGwA4scN/iyxipRIlhhHWdsTBesSAoz3gLUn1HrjLD6hsF9on5wIRMB16dLFaxVCBBGJHiFE0mC98VuBUhW8HCpGwmVPxQvHROg89dRT1iqDWHEWK9fvDz74wD764XXR4phcgHSkQGchRPaR6BFClAmWm9A6NqR4E3OTavzWkvvuu89aZJwYwcoyevRo+xwi1QoKFUt+EDgIHXdM3gdixokVZ/0JFS/0w5/lFQp9Y7tLfRdCBA+JHiFEmbiB3u/CQpz443NSxfDhw3edA/fZN998423ZbU1x2wkaRow46CeChja2h4ofhAwCx99vXuMXK1h/CIg+77zzdp2HhYyvst4vViD6l44YJCFE8pTbiS1aCCGyDELBBQOnK5ZHCFHYyNIjhBBCiIJAokcIIYQQBYHcW0IIIYQoCGTpEUIIIURBINEjhBBCiIJAokcIIYQQBYFieoQQe/G73/3OHH/88WEnzzzxxBPNp59+6q3tTe3atb1n4Ym2Pdw218YjS61atez6CSecYI444oioxxNCCD8SPUKIvUDUnHXWWVZY/PWvf/VaS2Hbn//8Z/v4pz/9yQoPPz/++KP3LDzRtofb5tp4dMvatWvt+VlYP/PMM02zZs1Mjx49bJ+FECIcEj1CiIhg8WEW9Hfffddr2Q1zV/3+97+320KFT6Z59dVXbT8nTJhgpkyZYkVQ69atraUKMSSEECDRI4SIChYfrCnhhA8Cg+1BED5+EEEIIIQZAggLUDhXnRCisFAgsxA5wmeffWZnGa9bt+6uOaWGDh0ado6pVPL3v//dPmLVCQVXEtuJ8wkSCB3cctzT/fa3vzVPP/20vU5/+MMfvD2EEIWIRI8QOcLYsWPNhx9+aEXP+PHj7Wzhhx12mB3Y0z1XFcIG6wmWnVAQPogMLD5BhL5hifrkk0/MokWLTPPmza0FSAhReMi9JUSOgXXnpZdesrORMyN4pnCurAULFoTNmDryyCPNbbfdZkVGkCH4GasVLrtrrrlGbi8hCgiJHiFyjDfeeMOcdtpp1sITCjOVI4aGDRtmOnfu7LWmDsQCAcPO5eWHdoQPFpVcCB7GcsX7QcDxfhTwLET+I/eWEDnEqlWrzDPPPGOfE+Pj55577jFvvvmm+eabb7yWvSGmhdiWRJcHHnjAioVw23AbrVu3zlx00UXe2YINFimsVsT8EJMULmZJCJFfSPQIkSMgeM4//3xz8803m7Zt29oYHyw7L774ot1+ww03mDvvvNMGO0cC0YOFKJnFWUXCbdu+fbsVEgijXOHaa6+1fcbdhaUKi5UQIj+R6BEiByBouX379ubuu++29WcuueQSM2LECPP8889nNK4HsJDgEooUDEzWFPV9cg36jdVHgc5C5C+K6REiz+jWrVvaYnocLn5nzZo1XsueEPCcq7VxCHSm/4g7Kk4LIfIHWXqEEHGDewtREMkigljI1RgZiizK3SVEfiLRI0QeQdzPrFmzzBdffOG1pA/S0yMJG0QR9Xty2U3k3F0IH6w/QojcR6Inyzz++OM284XMG2DQovgcAapALAfbcVk4qL7LuttHCOA7VL9+fetyuvzyy+33Jp0gbFgiCZtooihXIMjZVZyW8BEi95HoyTKHHHKIfbz44ovt45NPPmkfHYMHDzZ16tSxAaxApg7VeBFHQvghe8ufSZWJcD3cWLfffru3tie4iaKJolzBP9WGhI8QuY1ET0CoV6+eFTIff/yxadeunddqrMB55JFHbMYOkKnD4Mb+qYQfc+7Mzz77bNOhQwfTuHFjayngkXXa2a4ffeEHQQCR4l74zvz5z3/21nIXCR8h8gOJnizjz7DBynPllVfa5zVq1NglgtKVkrxp0yZ7l46g6tWrl9m4caM599xz7d379OnTzdatW+0j67Sznf24g+d1vF4I4l4iWXsIdiYgOB+CgSV8hMgDdoqsw8ewcuXKnSXCwq537drVPg4YMGBnyY+rfR4K+7z//vveWvyMGTNmZ4MGDXb2798/7uOwP6/j9aNHj/ZaRaGyZs2anbVr1/bW9ubaa6/dWSKcvbXc591337Xvl/cthMgtZOkJCH4rDxCkTCyPc2ulCoKguVOlqB2TVj722GNx13Nhf17H61944QV7PI4rChMKFUYrVsiknpEsQbkIFh/eE997IURuIdETEHBj+cUHk0YOGjTIW9sbXF/McxQPpDKfdNJJ5te//rV55513zLHHHuttSQxez3E4Hsfl+KIwIXbnvffe89b2hGBmRFE+1bthOg/eF0UMhRC5g0RPQPBbeeDqq68OG6xM9tbRRx9t5syZY/r167dHKns0mJkbYcLgdP3113utqYHjcVyOz3lE4UHsTrT5tsranotQxwchl+vZaUIUEpqGogD48ssvrVDCHdW9e3evNfVMnDjRBjzPnj3bHHzwwV6rKBSYs+rdd9+1FpBQEDxPP/20DQTOJxA9FC/kfRPgL4QINrL0FACXXXaZnZwynYIHOD7n4Xyi8IhmzSEOZsqUKd5a/oDAy9UJVnMNim/GatmOB47pisOGkug5icmk5AcL1nkRHCR68hzcZq1atbKBl5mA8xx44IF7uetE/kPQfaS4HhfsnI+p3og9KHQ3F4O7G+hDl0QGfn5HEhUM0YRMJiBRhIKyOFKSLTlCkoj/WkZ7X+4zSHdiSbTPhlkEQoUi+/v7zfZo78m/Ldz2ZJDoyWNmzpxpXnvtNTN69GivJTOMGTPGnpfzi9QxdOhQ+wPAI3z22Wf2x4QfmSCA1YOaPJFAHOSjtQdw2zHlRqaDtRkMQgcIprHJRjYlgzuDPMuAAQPs4tbTVWssqHD9mzRp4q0lx3333Wfef/99ex15vPHGGyN+vu4zaNGihdeSeZhFYNKkSbumSXLiiKK6wG8W/XPfDRbeU+jvmHvP8+bNs9tTNe2SRE8eM2rUKJsBVrFiRa8lM3A+zsv5RWpA4PAjSokAXIis80Pw4Ycf2ordQQDRk08ZWvHAe0fUZbr6NNmTfCcYHFauXGm6du1q44uyOeiFg4GPu3t3h886gs0/0NHGgAjsw2B33nnn2ef+Qd7NRxja7uAYDLr8fbCPGyz91oVwlgO3jSUS9LGs/dz5Xd+Bfvpf54QA0C+/eA2Fv2+X2esely9fbh9DcW41hzuXO7b/enPeSO+HdrY7/MflMdJnA3z3sHJdeOGFdp39nBXUve/Q3ywEzqOPPuqt7QnH43u9dOlSryVJSv5YRB7ywQcf7CwZJL217MD56YdIHRSx5M+WQpY891PyQ7OzZcuWdjvFK0O3p5uyihRSoJBChfkK779atWr2+qdrqVevnne2PeGz5jOPVMw001BYlcVRIsxs//mOOngeug/fXwfPaXOwP8dwbbyW9xwO2kPP5V5XMmDb4/AI7Otf9/ed17lzUJTVv59/Wyi0+/vO63g9uPO79dDzRyP0GoXi+ujgudu/rPP63zfn8b+30OOGfjbhYB8W/3H85wjF3zf/89B+J4ssPXkKs7dHq/OTCTg//RCpgzIGbdu2NW3atNmjpAF3YuPGjbOWn5IfCVszKXTy2nRDzE4091YhWIKwcpb8rqZtwZoTCjW7zj//fHt3nepipqmkZADc5eJIlJIBdJerrG/fvuabb76xz8uC87rXOSuY31rCtXPtHHfy5Mn2uZ+SGzjrsnP7MR8hFp2ywLpBv52VhtdzHI7n8J8/HM4Sg9UkXN+i4awsHJ9++C0msbzvRKHWHL9Fw4YN81pK4XcgFqgDx3vme8N331/HLhkKXvRQWbhLly7WD04FZJ7Tluvw5U13tlZZcP5U/hGJ0h/QNWvW2GKWfvhBoFQAQogfMSatrVWrlrd1Tyis535EU71AuHaW77//3gqjfIXBxU3AmilyRfAEAf93MRoNGza0g3UoCHZcMO4YDMaxsHjx4r0ETbw3AE700i/O69xE/vfk2hIl0vtOFAQaIgvx4yfa+6YPjve9mB6Okcq4xYIVPUymyaB8yy23mLffftsOJNyl8pxAUaoMs08uwt1+/fr1Y/6jTBecn37QH5E8/KhNnTrVPPjgg7bmEgNeuB8D52PnTjQciB73I5rKZcGCBfbHPNw2ls2bN+e16JkwYYKdfDVThAoePnfqcYWLcyl0iE/hOrnvYjSwAIX77eS7jYXG/50u61hALF7oZ8LAH6vFww/iiT7wOwD+fiQbLB7pfScCv0v086233rLWMCfIeM/hboSxVHPuUHEIWIoQm6n6Xhes6KGuBhc/nLl49erVdttvfvMbryW34EuGxSoI0I9QEzBBuFjWXDChC+KjXewNf+xcn3//+982ALB9+/b2B4JSBP379/f2KsUJIfYLV9E7m3BTEcn6lOtQn4j359LXMwEDOX9bFEXk+8F3gpu3cANHEEEM+INXsQz4ISAYK0kicA38FgXcYJwPwllE/BlRWCbC/X4ec8wxEYNto4HVlc/JBVRzHo4T6aYkFBfc7eC1xx13nLeWHJHe9wEHHGD77La5oGRHtM+G90kfyeKCF154Yddni5sRa5I/kJxz4MoKtQg5sGJj7Rk/frzXkiQlCjFvKfkxCBs4+eabb+6sWbOmDY6KttSoUWPn66+/7r0qd+jZs+fOcePGeWvZhX7QHz+PPfaYva4lX2SvpTToTSRHtoNZmX38hBNO8Nb2puSHc+df//pXby2/4H3n63tLhJK7/D0CViMF4PJ9db+3ofuw7raVDJR7BQ4T2Brpd4Nt7rU896/zGo5DG/Dcfy7/MUPP6d+Pxb/Njzumw39+FnduYF/OEwm2+V8bbV93Hke4c7l+ufO644ZeSz4/t829b4f/OvDZ+An3fji2v8291i3+awW0+fvN9kifdbzkteghm4IfWjJK/D9IJXdje130SEv37t29VwUL3lekTJhOnTrtnDp1qreWXegH/QmFAZrrC/zRuC89X3T+aPxfeBEbXDcneNwgkUnKys5q1qzZzgULFnhr+QPvO5rYEyKIhBMnhUDG3VuYtVzxLCanTGchLeIHKBFP3Yrbb7/dzpGDyTM0CDQaQa0gW/JDa83pmLVDK8F+9913Zv/99/fWsgv9oD+h4HopUe7WHUMcVaEVL0s1mOxDXR2ZBvdkpGBavqssicQxBBl+T6jNw4S7Qojgk1HRwwCHT58BjnTa6dOn2/iZaD7oVGSaOLGDgGFSxHj8xCkriJRinKD75JNPbAAl79HNe0SWTJBED/0JB6nXCB5/nEeq0hILDf6mSm5i9liSTQ+OF6otRxI1bMvHCTmpwkzwcqaztoQQiZGVWda5K73//vttiq0Daw/ltvnRTPWPNT+4WHqAOzJ+pGIVPhUqVLA/1tWrV/daSuGuNV7ifU08+7t9//jHP5qRI0faAO0qVarYtmyyfv16m8H11Vdf7TUgYvXD6hYaWEiAJhH7EkC5AzcUJ554og2kDQc3L2vXrrUWynzhgQcesDccTEGRz1lpQuQTWRE9FKy799579ygsRcS3K9aUKtGDEEDsYAFhIkwi0PlxIsOCH6tYqFmzpn3N008/7bWUksiPXLyviWV/9x754cVi5jKjSBMPQhbH119/bbMeDj30UOtm9EOWEdlHoS4R0m55T5QNELkBAoDvHtbHcGBhZVu+WESwHCPy+LvLRwuWEHkLoieTELBK8FSdOnVs0CWZPA7aUxlYRfYWAb8ENPt54403bGYWbz/aUr169Z0lYmlnrVq1dpb8uHmvDga8J4JGmeqBgDSup+s3bSUi0tszu7hAZj4L/zXke+D/7B3+61+IQXa5CoG8kf5GPvnkE/v55wv87fF+/MkRQojcIKMxPbgtKKqEJYfCRdwpxVqrIBGId+HuMtRicuqpp5rTTz896kSc5cuXN6eddtquQm7U9fHXfcg2xBJgwdq2bZute8B7LC4utu444pi+/fZbb8/sQjzPfvvtZ++IuYZ8JvSPmjOhNWaAa+2WTMekiMQoq0YN23v06OGt5Ta8z7POOstarLAcCyFyi6y4tyJBJWS488477WM6odoyP14zZsywwdR+mI6CglL/+Mc/rDBCnCEoqlatagfvoEDW1syZM60riz7zXihYR1zFueeea2Oksg0FqnAR3nrrrVaoIRyDdA1F8vB3dPzxx5trr73Wa9kNIoEge1ybuZ65xXtBuPM+8ik2SYhCIjAVmbECjRgxwi48TzeImYkTJ5o77rjDnHzyydZSwsJzKkNSPttZggh8Zk4QgjVdhlQQoL8Int69e1sxQTYUmVBkyQVlziv60bVrV/ucgSJo11AkB0kCfKaRrB581sS85LrgAUQ7f3NKTxcidwmUpSeocIdHICYWCu5qI2WoZAMXUIngOeSQQ2yA9g8//GDdXgSGZ6NeiwO3G+XF/bMZM0gG7RqKxHCuHm4KIokerDyI3VwPYMbCg7jDYoXwEULkJgU791Y8OCsQELfAD31QcHVC5syZYwceBpeLL77YDjZYsrIJ5w+dw4b+cQ0ZRERug3uVv4toVh6257LgcS4tbi4keITIfWTpiRECmhctWmTvWhEUQUi/ZdChGiyzbl999dU2SNhBfA8F6+hztmjatKmtwdOxY0evpRQX54HlDNeHyD2weiD+o32GWCApFREpwDnoOMGD0OHvXoInOi8v3mTe/vYnby04DDuslrn/y3Vm8/ZgDXVH1S02zapXsNctaFxzUA3z4sJN5vuftnstwaBVjYrmuoNreGuJIdETI87FhVsGFw0/hgsWLPC2Zh4nHBBf9Cdc4TdifaiREy7ANN1QtwX32tixY72WPcEKgJUqm9cwl0A8UtcIdyVFPYnbOv/8822tK3+9q0zAdw9Bg4Ux0nfLFe4Lrc2UK7i/cQQbMTwSPGUz/N9rzeNfb/DWgsOkk/c150xdadZt3eG1BIPujaqYI0qED9ctaDzfub4Z9umPZv6GbV5LMOhQv5IZd1x9by0x5N6KEX70WDBzY+Hh7pZBO1twbn6Q6ct7770XNiV40KBBZtSoUTZTLZNwPs7L+SNB37mGWNBEdBA4pPjjwmRhzjoEz913351xwQN89/jeRRI8iKJcno8KwYbgof+y8AiRX0j0xAEDtZvcEwsLzzHzZxqsJNyJ8qPM+VnCudo6dOhgzjjjDHPppZd6LZnhsssus+fl/NHgGlJ5GSEpIsPkrJRxoMI2Aet87ggefyVrrEAHHnigrYHEI9WR0wGCgO9bNEHDZ+oEeS7hXHbOQqU6PELkHxI9ccAPPXewwN0fg3amg5pdnAHnpg+IHwaYSPzlL3+x1gDX73TDeZh6gvOWhbuGvB8RGwSGI4JCp+7A/fXyyy/bOdcQRnfddZe3JXUg8pmOhTieSNYPvo+I8miiKGjwN4X1ir9l6g3x/vIhxV4IsTcSPXHADz2Ls0wgNvhx5O43U3AX7bK0IJJry8/o0aPNkCFD0p7NxfE5D+eLFd4Lg46zoInIYL2h7tGsWbO8lt1QYBMhhCAi7of51yKBS7GoqMhWHacWFYU3K1WqZCeopQAnk+vWqFHD1nzi+07hSx7JCiQwvn379qZBgwa2dlWjRo1M48aNTZMmTcwBBxxgq53nkksIkUZ8ElYerDu47HKl70KI+JHoiROEDneyDu4KM+Wi4bz+u2jEQiTXlp+DDz7YjBs3zmZzYVlJBxyX43MezhcPXEPutOXmigyC58YbbzQvvfSSDaYnrodZ6ufPn+/tUQoWn48++sgW3YwEooc6Tlu2bDGbN282GzZsMOvWrbPCCUsRU4dQW2nJkiVW5ODuQQDxGTNbPvFFZApyHgQYmYJvvvmmFT5YmKJZHoMAfzeIHRIB+Nvl7wnBI+tO5jigankztct+ZknPRuaFzqWBqRNO2MeuZ5s7Wtc2/+vR0C7t6heb0w+oYp//X8d63h7Zg2vFNZp16v52nb6yflHL6nY9KLjP1r9MPnlfb2t2keiJE6wq/FA6uCvkRzPdLhp+qDmvc2sBP9wEA8dyZ8qM5e+88449BjPcpxKOx3E5fiIzozPYkNqczcDwIEOMDoLnueees3E9TDHCvHCIDP9M+sTznHfeefb7sHTpUq81PM7Sw1xtoZaeatWqWUsP04eQXUeWFm7LCy64wOyzzz5m3333Nfvvv7+19mDpwTLElCdYgLKRKRgr/A0h+LDs8H3FIoXYCbpIy0f6t6phnpq30azZssMcVa/YCoo2dYvterY5vE5F89LCTaZK+XLm8pJ+3n9UHft82abspm8jwEi7/3j1FtOgSnnz57Z1zIUtq9ltc9dusY9BYf+S/l0xa7Xp+NZ3ts8sD3213tuaXSR64gSrCoOK3yrBDz0/qH4LUKrhR5pz+606xFfEM5Ej84khTLASnHTSSeb999/3tiQGr+c4HI/jcvxEYTDimqbzGuYqxGQxLQquK8CaQ6UJLGt+aMNSg2sLkZQsLrAXUR9JGPC9R/DzGMQ4Hvd3iVWHBcsVNw6InbIspCJ93PLZj+b/5m0wCzZss4Li0NoVTa+pK8zhE7M/UXKPKSvMP5aV1s45pUFl8+ayzabxK8tsn7PJrJVbzEUzVpnP15Rm457aqIq57bO1tm9sCxL/b8Jy80mJOHvl+H3s54uI/MfSzd7W7CLRkwChLi7ARcOPfzpcNJyLJXRQicW1FQqWAX7wsQhgMbj88svNtGnTvK2xwf68jtf37dvXHs9vcUgUBiM3gIr4wBqEqwthRAxOsvgFT6QsJid4sNT5LZDZhD5hAUVEO6GDlQpLIi45+qmCmMFh07bSMnFjF23aa+DGZYObJBtupeWeVefbzdvNNXN2T5mDtQU3jXPZONdcJlnr1Rv6aNUWKxwduOGcW+nz7g3sejah1g8WqVcWb8q6YPQj0ZMAZHgQ5+CHH34Gh1S7aPgRd6Z4/6CCCGI90TgE0tixIOCiuPLKK23wKzOiE5NDjMbixYtt3AePrNPOdvYbOHCgfR2vv+SSS7wjJg+DEdcw3a7CfIQyAWRt4eIi1oaU9kRxgofvXDjBw3eS7zmCgr+FTAUuc14WbizoI+KGJAL6gsvKiRz+XgCBg9BBlPM+giDKxG5wz+DagoNrlU7u7CBWZcXP203z6hW8lsyBsMFCgUuGQdvPobWKTeXy5ax15T9rt5rO+1bytmQGhOAFLUpdWo2q7tm36w+uaa0ruJTqFBeZsxpX9bZkHuKz+OxwxflFYxBQReYE4IeX6sz8oIaKDtoZBFIVJ+BEFMf0w52s/zEReB/AYMAggrXqiy++sPEgy5Yts49k5BC3wSMTmjIYpvNOmT4xcDFgyf2QHfhO8RlH+g4jMBAcmcaJFh7dQj8Jsua7wjp/j24/kVlircjMwH1761pWVIycu84+x6IyaflP1opx35frvD2NtVowtQVunUSJpyIzlhI3WGOFQtT8+b/rTZcGlU2Xf/3g7VUKVp5DaldM2CUXb0VmrgUQC9W1YWUryIib6dusmjlv2kq7Dbi+Nx1a01z30ZqEXUrJVGRGsBJrhOvyuMnf2/6wzvNkSUVFZomeBMEaQYpwaOAmgwHCIBWziHMszoO4Cv0hd7O+JypA3LGDKC5SeQ2FEJkhVtGDuwoxQZwHbg+sAm1KBv9pP/y8x+ANmRY9nI/Bum9JP44s6RNBzD+ViLOhJQLALyDIPnvjpH33ao+HeESPE4ruGvmFBX1d6rnjnGjDCsU1c+3xkozoceLMT7KfoUOiJ4vgXnKF2kJBTGCxCLctVng9d9ThgkixyjgxFC8cF+uRv7J0pJiNbILo4a491MIlhAgmsYqeeMi06IkFBA/urztK3m8ywbnpmnsL99yznepb4UNQdiJo7i2xF1hHsEg4F5EfBmoXc5AoxCpEcjEguBKxziB0cB1hoeLYiIpw/Q8CiLFsTfMhhMg+DN5A9k+QwFKFKw7Bg4sLK0wQwMpDXwjCxjolwiPRkyC4m8JlcQHbGLSxxiQCYgkrUiQrB1WYCSCNB6w7ZLFgfXJxD9RfCarocdcQi48QorBAWLx83D72Oa6wcC6TbIBb6Ze1KlrXEn2ib5O/DUYq9mslIuzaX9YwM7rtb37cssMMnLXa2yL8yL2VBFgiyOKK5MZKxEUTza0FbCeeh6JxoXE+0XDihtdwfFJ4yYKhbkmQXUhcQwRekIveCSHS495KBal2b6WKdLm3UkE+u7ckepLACZBIAbduOymzsQYckznDlAORhBRuLyw9icYLYZkipZd4oGhxSUHBXcNwmXJCiODw2P/Wm5cWlRb1CxJPdKhn06Y3bguW6Dlhv8rmoFoV7XULGve1qWMe+O96s3RTsERP6zrF5oG2ydUhk+hJEqwmuIkiBQMjLHAtYZkpC+JXsGyEy9ZysJ3zRUonLgt/fzkf/Usm7T0TIPSwqCEehRBCiERRTE+SICCwvEQCcYKVp6yZ2LFoII5wO0USPOyDUEk0TR2BwzGcQOM4QRc8kIlpPoQQQuQ/svQkiXO/RKspwz5MDYC1J5KLpiy3FiTrjirLKhVkiD8i80xuLiGCydqftpsNPwfLhQT7Vq9gVm7cZnYEbKSrUrGcKS5fruS6Be+a1a9W3jy9YJNZHYAJYP00KekXxRiTQaInBSB6yiryF81F49xabIs2oLMP6eaJWGcQTC6WJ1fBEob4CXIMkhCFytK1W83360snwwwSB+9X2Xy14mezPWCqp06V8qZacZG9bkGjVf1K5vSpK1WnR4QH6wkWmGg4F40rCuigzbm1yrJgII4StdK4SRdzGVf/SG4uIYQQiSDRkwIQNLEMxFgonLXCgQgihqeslGxq97BfIq4d+sY5Ew1+DhLJ1D8SQgSbya+NM20bV9u1LFtcdgJIpjiz82G7+jVySHBKaHw6+4M9rhnrQYHZ3qlnxMLzICDRkwIQIyx+MRMOBAuWGoQPYLXAAkNNnrJA9PTo0cNbiw93jkgB0rkELkTEm4SPEPkFg/WQgReaCdPnmjlLNpqrhww3A/ue4W3NLlf162E6HHey7RfL+L+NsQIt2yAKL+l5innilbdtv0Y8/JRdDwLMqcZs78xI32vqCvuctmwj0ZMiGIhDXVfh8LtonFsrlmws3GeJTD2RT1YeB9cQEch1FELkB5/P+dCc/ZtLTaMmze36BQN+b5Yumh8Iy8WM9/5pfnP57vAABNk/xj7rrWWPLz6dYzoe/ytzxNHH2PUuZ5xjDmjaIhCCrE3dYjtbPcxaucWs2bLDToaabSR6UgRxPVhUYgEXTd++fe3zWCoNM7hjpUlE9OSTlcfBe0H4ENgthMgPZk+fYho2buqtlcIA/sO3y7y17OBElxNjsH+jA8yShfO9tezx8czpe/QLGjdrYb5bttRbyw7h5iNjagysPdlGoidFYK2JxcUFuLnKly9vypWLbSI9rBqJCB4gjiifrDwO3lMs9Y+EEEIIh0RPCmEgjiWgmXiUgQMH2ro9CJqyINU93glGHQixfLLy+MFiFhoYHo7HH3/cCsx77rnHrq9atcrUrVvXTJs2za5fccUVdnu3bt3s+htvvGGOPvroXW3sL4QQIveR6EkhCJOyXFzOMnHTTTfFlIlESjvurXCWHgZtBuahQ4d6LYUFYi6Wa3jIIYfYx4svvtg+Pvnkk/bRMXjwYFs88u6777brV199tXnppZfMypUrzTfffLPX/kKI1IObZvmSRd5aKcT0HHJEW28tO+yzX2nWkT+TDPcRgc3ZBndgaIYbbrfD27b31rLD3LWlsTx+ahcX2biebCPRk0Kw9CBSIlkeaEcUEY/CgI2QwUXjsrnCgeWI/cJZazp37myGDBliOnXq5LXsCRaOPn36eGv5Cdlw4eofhaNevXrWavPxxx+bdu3aea3GjB8/3jzyyCO28CMgdFq0aGH3P/fcc22bECK9dDurt82KcoP4M4/+ycb0hMasZBrOT7Dw3x7bfUP74Ihhpk2H8L+7meTk0860QdYu7ogAZoSiC2zOFgQuL9iwzQYzAzE+xPPMWbW3GMo0Ej0pJpqLC3FDwLM/WwtLBQN2pEwkXFu8JhIfffSROeigg7y1UhjYcdmsXbvWCoJ8J1z9Iz+IQwdWmyuvvNI+r1Gjxi4RFE4csm3y5Mnm7LPP9lqEEOmCgZqsqB6dDrX1ZhAWr077t7c1uzz07AQryFwtHPpJplS2QZC5NHX65VL+g8Bxk7+3j9Toub11LZvJddGM7IcKSPSkGGrphJuAFLcWAiQ0W8u5aMJlIrE/MT/RUtoZmGfNmmVjVNzAjYUCy8Uxx2RX7WcKAsNJ/Y9mMQMncJwIwrJzyy23mJtvvtmuh0Lc1RNPPGGtPkKI9EOauquFwxIk/P2in0EB8eXvW7YtY36o0eOWHlNWeK3ZRaInxeCKwtLjt7A4t1ak1PFImUhO8ESqwswEpW6i06+//trGoRQqzEfGdY4WSO638gAxUcTyOLeWH+KkEEPhtgkhhMhNJHpSDKKGOBP/4OvcWtHSzsNlIpWVtTVz5kzTpUsXa+HBuhML8+fPt64vl8mUT+DmihbU7LfywPDhw82gQYO8td0geIiTQvBgHcr3uCghhCgUJHrSAEIFwQJYbxAyZRUhdG4u/6CNpSfaBKNYelyRQ6wWLVu2tM+jsXz58oTm78oF3DQfkYoW+q08QJZWqFhEFI4YMcKcdtppNjOufv36BREXJYQQhYBETxrAXYVgcW4tl61VFv5MJFeFOZpAIch23bp1dqDGSoTlwg/bsFT48Vs68hFciFy70PpHO3fu3OO9v/XWW+bXv/61t7Yb4nfY17+wrxBCiNxHoicNIFZwZfXq1atMt1YoLhMJ4RPtdQgdXFtYK9q2bWvOOeecPdwwFNXr16+fmTNnji209+KLL3pb8ptwFjMhRPopKmdM+ZL/grZQ9z5ce7aXkn+mXICvWbUK5UyNikWBWqqW9ClZypXcye70nosUcskll1gBM2/evJisPH4QPQzcrkZPqnHFDO+88077mI/g4sJKhpVNCJF+duzYaUr+BQ4G8e0McwHrG4IHFzrXLWhwzeZv2Ga2BKxviJ6m1ZKbtFSiJw3gomLA3b59u1m/fr3XGju4Z4466ijz8ssvW1dZKsECNGnSJPu8a9eueeu64TNo3ry5effdd6Om/AshUsP6n7abjQGouBtK/ZJBcvWmbYETZJUrFpmK5cvZ6xY06latYE555wcrfIJEh/qVzLjj6ntriSH3VhrAUoN7hSDYaCnUkSAepWfPnmlx0SBy0LksTvAgzJ5++ml7PlxmBx98sKlVq5ZdeE4b29gnERGXDZybSzOxCyGEcMjSk2IQOYieTz75xMblkGHF4BsPDNTEApEBhsUCN1k6eP755+0UDByfc3bv3t00atTIHHDAAfYRli1bZpYuXWofJ06cuGtfqhS7zLEgQ1/Jpisrey4VfPHFF9Y6N3fuXHvNlixZYh+5no0bN7aPhx56qI31cvOBCZEvyNITH7L0xE8qLD0SPSnEuVQQBsTiuHVXQDAWeM2RRx5pRRPwHNGUytie2bNn2yyn1atXmwEDBlhhULNmTW9rdMgI4/09+uijtgr07bffbgOlg4r7DLie6UrVp+YRYufbb7+1gqZDhw5W4DjxSJkAJ4CorcS+DRo0sPvecMMN3lGEyG1SIXpefXmsGXBRP2/NmJmffWWaNkuuwnCqRE/HIw4yCxfMt89/e3F/M3LUQ/Z5oqRS9Dz8wH1m+G1DzKP/96w5s1dvrzVxUil6mIYCek1dYefkSga5twIGAoC0cydQcLGw+AsOloWrwuxem2oXDRYPYnlOPfVUOwBjUYpV8AD78hpeyzE4ViasKInCNUTgpcNVOHbsWPP//t//sxYeygUsXrzYBk4zSSnFDZs2bWoqVKhgmjRpYtdpZzv7sT+v4/UcR4hCZ9aM6VbwIHS+XbvFDLt9hOlz5qne1uxyXs/u5viTTrH9Ynn6ycetQAsCiDFo1jxY0+Xc0br2LsETJCR6UgRuLRYGWD8EIlOrJ1aIm2H+LgcCigWXWTJg0Ovdu7d1UzGL+FVXXeVtSRyOwbE4JscOKogyLD6JxFeFg2NhpRk5cqQVMXxmp5xyirc1Ntif11G8kuNwPI4rRKEy+8MZ1oLiLDsDrx1sLSuIoWwz5V+TzYCrd1dvR5C99Nwz3lp2mfHpf+21ChqH16loJxlltvUgIdGTAhissPKEK0KICCK2JxY4Dplboa4srD3RZmIvixUrVpiTTjrJBlaPGzfOuqVSBcfimBz7xBNPtOcKIrjksPbEY3ULB6//1a9+ZS00TGtB5eZkoEAix+F4HDfZ/gmRq0ybOsU0btLUWysF68Xy5cu8tezgRJffzdaocROzcP433poIBxOMBmWSUT8SPSkAwYNQCZde7txUsQxmuLbYNzT2hLZk3FwEHR977LF25vV0wbE5B+cKIlxTXI/JWMwISkeYUAjyrrvu8lpTA8fjuByf8wghhEg9Ej1JEsmt5QcxFItrBUuO37Xlh2OEm4m9LK655hobU/LHP/7Ra0kfnINzcc4ggiWOa5yImwsrHKLz+uuvNzfeeKPXmlo4LsfnPHJ1CSFE6pHoSYJobi0/CBn2KwtiPKJNMIq1B0tFrC4QXGLvvPOOGT16tNeSfjjXv/71r5hdepmGa5hIUHP//v2tJYbHdJKp8wgRNHAfLVm8yFsrhZieI4/Kbnbofg0a2sdFCxfYR1i2ZLENbBa5h0RPEkRza/lhn7JcXFggwrm2/Dg3VyyD9oYNG2wALyKkSpUqXmv64Vxjxoyx56YPQcN9XvEIn/vuu8/GKt19991eS3rhPJyP8wpRKPQ8p4/NinLigjRsYnqSTVlPFs5/wsldzKMPjvJajE0P79DpWG9N5BISPQlC/E1Zbi0/Zbm42BYawBwO/0zs0Rg1apSNr+nYsaPXkjk4J+emD36IVSHwmbo2wCNzz2Q6hgXLHJ9fLIHh1Ne5+eabzWOPPea1ZAbOx3k5vxCFQLuOnWxWVIfWvzANahVbYUFmUhB44ZWJVpDRLxb6mYp6OKnA9QmrGCn/PA9CxtuEE/axKevNq5fOlfXycfuYz7s3sM+ziYoTJgCig0wlBE9ZVh4HoobUdeaCCgfHIxYmluNhMXIFDMNZhpgqgsJ4M2bMsNNIZIMvv/zSih8K8tWoUcO2Pf7447Yy8YMPPrhrCowDDzzQpr1nGj4PXIULFuw2WYfjuuuus8IsG1aXwYMH21ID999/v9ciRHBRReb4UEXm+FFF5izxhz/8wSxatMi6muKhTp06YYUKFgdEDwNwtNggP/QBCwmp2KHgdkNs4GbKJpdeeqkVX35r2KpVq2x6O1+7+fPnm1mzZpk+ffpYQYRlA5599lmbyp1uCBiONkXFd999Zysq81nzPjINnyEFDqmDtP/++3utQgQTiZ74kOiJH1VkzgK4RQg4xkUSL5FcXBzTxf3ECqIHi4//eO45VpTzzjvPPs8m9CF0Fvd69eqZli1bWvHz9ttvW8EDTzzxhPn666/NTTfdZOeuygRlBYaTKXfllVdmRfAA5+X88WbsCSGECI9ETxzg1mKQxHIRj0BxkMX13nvveWu7oY2pHeIF4eUPyMXC889//tP85z//scUIsw19oC/MSeWnbdu2VvAwi7uD+cAQRLRlqtZPuMBwBJCL9Zk0aZKdOiKbIArphxBCiOQpeNHz888/myuuuML88pe/tLEbBx10kLn88stteyjccbsid4mANQdrjL8GC88ZZGMJYg7FZSL5ixYSx9OlSxdvLfvQl8mTJ3trpbRp08ZeB2flcbzxxht2ss4WLTI3h0xoYDhWN2KvmB8Lt9Ixxxxj27MFcVH0g/4IIYRIjoIWPdOnTzetWrWyA/B//1uaJfDVV1+Z8ePH24GX7Q6ECW6teON4/GBZYJD1u6QYZN0Eo/HgrBGu4B7H4RjTpk0LnOihVpAfrCkufsdBv4mfad269a7srkxBXJRzc3ENEUFYoqiOHAToB/0RQgiRHHkdyOysKpEsM8x3NG/ePLNjR/jgO6w6BBdzDKwpuKeSnVEci8KECRN2BSBzXAZ6YnTioUGDBmb79u3mhhtusO4ijoN42rhxo62M3K1bN2/P7EJMDxYyF9vz4osvmrVr1+5RfI/4HsTnmjVr7Dp1anhf6YYAZfpy+OGH7woMx82IuK1evbp1z8VTzyddILQRjn/729+8FiGCx7YdO+0SNCqVLzJbtu8wQetZ+XLlTFE5Y7YG8JoVl1yz6St+Npu2BatvdYuLzNH1i721xMhr0YMFxA1aiAx/1tTw4cPNvffea9atW+e17E3lypXttABFRUURM6XiBQHVvHnzXQM8z0ljD5d6Xha4h1566SVrIUHscGyOQz8RQEGAzwDRSZVmsraGDBli7rzzTm9rdnnuuedMv379bPo/k37yiMuQPlesWNGmjAfBaoZ7kJT5UDdhuijrZkGIcPywfptZtSlY2T7Qol6xWbhma8nNbbCGupqVi0zlCkXmh4BlSEGTOsXmmo/WmGWbg5VZdljtiuaeNnW8tcRIu+hxd/EDBgywgx0WCFxH6Zz8MhQsDbgvsNK4rKv27dvbdOmyoO9bt25NqZAgPR2LAq4Ugo9JY08UBmhqyeAe2rJliw0EJngYS1AQIIiZGJ7QYOagwOB+9NFH21pB9BPxg/BZvXq1eeaZZ6wVLtsguC+44IKMFXHEzefixLAyxfK95/vHhLOhvP766xkpPyCyz9K1W83367d6a8Hh4P0qm69W/Gy2B0z01KlS3lQrLrLXLWi0ql/JnD51per0JAL1VwhOZaAnHblr164RBxJcDASR+gmNdfGvR9vmcG0MbtzBso7woRBgNCuPg+DmSpUqWatPqkCcbNu2zVqQINyxw72XaPjTrnHX0e8gQF/Kly+/x/sJfW+RtsW6nz8LzOG2x3oM3Ed8L5g6g4KOiHUEZRDq41AvCOHBYybBFYsoJ1je3SxEgjgsvoPuZobkgOOOO26vYHWRv0j0xIdET/zkVHFCKu9Sidfd9TGoME3BiBEjbN0WTPdYgBAnfqKtl7UvuDbSwvkR5y6eH3CK0sUiehA8WAL+8Y9/eC3JQxwJwo/B+uGHHzadO3f2tpQS7n1Egn2HDRtm3UcIneLiYlvvZp999vH2yC7O0oP1yRHtc4v0HGLdD7jGEOsxgGBw2G+//cz3338fGPEYTjg6wrVBrPvG8nqX2YbVJxaXlwRPYSLREx8SPfGTM6IHgYM7iTga90OIOfz555+3d4a4vBi4Qwf/VMDdOner3IVi3XE/2rG6twhyxSITz5QTsUAcTtWqVa1ASRQGaQoAYp1wk3sS00OgNP0OAi6mh8egQt+wMBJsjbhAMCLW/v3vfwdCPDpLj8sw9BNO8EE0seenrPbQm4WyXF0SPIVLKkTP5NfGmSEDdwvrCdPnmkZNkptwNFWiZ9niBaZHp0NNx+N/ZR56doLXmjipEj2fzv7AXNJz94zvT7zytjni6ORKbaRS9DD/FvSausLMWrnFPk+UnKjIjOA5//zzzWWXXWamTp1q3V20IXCcKfyoo45Ki+AhlofYBKw6BAv771JPP/10U7NmTW8tPLidyNginoeA6EgDRCIcdthh1iqTKLwXrGYEB5PVg9hhYaqLIMXPMGAHdQoFPk9ivU499VTz0Ucf2c+DmjiAtSfT7qRIYHWiP1hfQhf3uYcuiBP/gmgJtyDkwy28hhgiXMKIHf5+aIuGBI9IBgZvBA9CZ86SjebqIcPNwL5neFuzyzOP/sn2hT4FCYQYggehwzUb8fBTewigbHJH69q7BE+QSKvowZpDIDApyFTZdenKVN51IIIGDRrkraUWftQJEiaAmQHCD5YlBhIXVxMOBmvSvxlEGAhSmb5MthUp04mC2+WWW24x77//vr0bdwMV7zNIM3MzfxTXOYh88MEH9tpVqFDBXHTRRTZF3V3DIIqeTOFuFpj3i5INsZRp8AsebmpY5+9diFj5fM6H5uzfXLrLsnPBgN+bpYvmWzGUbejLq9P+7a0Fhy8+nWMtT86y0+WMc8wBTVtYi1m2ObxORfPx6i1mQcBcZGkVPVhvyIIhfoV4HZ7766/wo4gYQgil4wfSDWCRIEYBN1NophOirGHDhnbiSwd3u7hBUuGmwcLA/FKcxx+AHA/0nQJ/9Ie7cTepJxakTKU2xwJ9CcKUGOHgMyYrCjcW3xXche46IjIQbEEA61MmRQ83C1h2wt0shGPo0KHm0Ucfta5WxDjWR9bbtWvn7SFE2cyePsU0bNzUWyuFAfyHb0utr2JvPp45fS/3X+NmLcx3y7L/29Vjygq7BI20u7cigRWIH0l+IAlkzsakjp06dbIxNVhJmH4CfvGLX1ghxgzgbHfw44/wcam8yeBiJHr27LkrSDRRiFciVskNTgzeQRM9QaoQ7Ydr5awYXEcneLiWfD5BqYJMP+hPpuC6YN2MFUpREBoYumRyOhEhhIiFrIkerED+H8h0xPTEAtlZxBaRXUQ/CBZ97LHHbHsozoUUb/XkUNwEo4iV0BT9eHCCyQ3cxC5R7JB5xEKnfsgG9IG+BKVmUCRw5yB0/DFfp5xyip28NQjQD/ojhBAiObImenIV3EouGywRcG25+ba4m2awTeRYHMdvnQDEDxYBsuFeeOEFrzV70IegTIcRCa49006468hngju2SZMm1vXJBK7ZhLgj+kF/hMhncNMsX7JnnCMxPYcc0dZbE6HgDiSY2c+ShfPN4W3be2siFImeOEGkIHwSDWpG8CBMnPsA6xExOfGCdYLXhnN7EBg+duxY8+WXX3otmYdz04d0BamnCrK3sLohQsFvyaOQZraDcZlmhH4Ike90O6u3Gf+3MbsGcTKmiOlJNmU9nzn5tDPNjPf+uSvYmwBmhGKyKev5TMaKE+YbzNOEdQDhEQ+IJbJi3MCK4GHgJUsmVrBOUOE62pxdZJ0tXrzYPPHEE15LZrnkkkusdeLWW2/1WoIH7kHci1xHFxPlh+wtrCxk2WUj5oxAar4rBDIHNe1fCEcq6vQgdB4cMcxbMzYNO1lSUadn5JBrrSDzQ6bZTSMe8NbiJ1V1etJR2ygVdXomnLCPaVN3z7Isa7bsMIdPTLykSk5VZM43EB4IH1Li4wn6DDfBKLV14jkOwdS4YKLFFlGskIH6zTffNB07dvRaMwMuIWrfMGgzW3kQwT3IZ0ENpmhBwsxrRkYSE35mGiY85c/z/vvv91qECC6pED3pQBWZ4yefKzLLvZUgCBQCX7HSxArp5VgUQsVNPC4u9uM4ZdVOQWzgArv00kvN5s2bvdb0w7k4J+cOquAB4qH4/MrKiuI6817+97//eS2ZgfNx3rI+ZyGEELEj0ZMEuLcQIG7OprJAsIQbZKn6TEZXWbjgZWKKwrljQmFQP/nkk2017EzBuTinPxMqaPB58Vn4g8Aj0bhxYzNy5Ehz+eWXey2ZgfNxXs4vhBAiNUj0JIELao61dg9ZQgicUBBCDMJlZXFx54+VqCzrhB9iVojtyURsDefgXMmk4acbhCPWOWouxSIcATcT+2bK6nLjjTfaOb84rxBCiNQh0ZMkCBCWsmr3YBFiwA0nWBhQsYxEsxiFplbHw/jx4+10FUwNkC44NufgXEHGCcd4AtD5XJibi2w0pk1JJxx/3LhxaT+PEEIUIgpkTgGIGReM7FKfQ2GwJQsIC0M4yCRidnQCa8MRmvUVL3zM5557rn1kQK1bt663JTmYWqR///422BdREGRc1hvXONLn5MdZhVwRSDLiEJ7ELGGNSTXMUTdmzBjz8ssv20B1IXKJHzdvN+t/3u6tBYf9a1Q0P2zYZnYEbKirWrHIFFcoZ69b0NinegXzxLyNZtXPO7yWYNC0WgVzYctq3lpiSPSkCAZGBkQys8KBC4x6MJEsDAywZBOtWbPGa9kNlgZED6IqVpdMJHDRPPPMMzY26KqrrvJaE+Ohhx6ylifmr0LUBR0ED+7FWNxUfJ5cI6pm87ny+fCcz49pSqiQfNddd3l7Jw/zqDHdBJayWLP4hAgSP23bYbZsC95wUr24yGzauqNE9HgNAaFi+XKmfFE581NJ34IGWWWP/G+DWbUlWH1rJtETLEhhZ2AMDeJ1goZaPNFEC8KIQTn09QzWCKZUBQfPnj3bihWsNBy3e/fuMQfMrlu3zlpKmFASaxHC4Oijj/a2BhdEmbOklSUcse4gNInXwjpEjBJTfACWNj7Piy++2H6ew4cPN7/+9a/ttkR4/fXX7Wz5fD+efPLJpEWtENli/U/bzcaADZJQv2SgXL0JS4/XEBAqVyyywofrFjTqVq1gTnnnh7xMWZfoSSGRavcQpIy1IJLryoF1gSwuBluHG6wjWZCSgcF21KhRZtOmTVZwIX4oxkd9Hx6BwnjU2+Fx4sSJ9j2wL9aOvn372n2CDiKFz4XrGksQOPsDAgTBiZDlsw11T+LOGzZsmK2D1K9fv7jmx8Kqwyz+1DRCOPXu3dvbIkRuItETHxI98SPRE0CwEjBA+gVOJAtOKM4i5Fxcbp1jxZOxVRYc1x+rgtWmSpUq1rrhFzngF0H0gZnha9SoYbflCrxXiBRPFQnEKpYsRGw04XrPPffYOJxvv/3W9OrVy3To0MFeM3fdli9fbpYsWWKv68yZM+2+TMLKvjfccIN3FCFyG4me+JDoiR+JnoCCUGGAJf7DCZdYKy77X5voYB2NSLEq+VoED7HCdUwkHsrvViT7jmNFCyT/4osvrKCZO3euFThO6CB+cB/yeOihh1qxc8ghh3ivEiI/SIXoefXlsWbARf28NWNmfvaVadosuSkVUiV6Fi1cYDq0/oU54eQu5oVXJnqtiZNK0fPwA/eZ4bcNMY/+37PmzF7JW41TJXo+797A1CkuTRJPdgoKUEXmgIIbxU1IivUEsRNrcCoCBHeWG2QTSVGPBIM/8SlYK+gPIoBBHeGTj/C+EHiIxngFD9ee1zvrnH8i0kggZKhVhNuL2dERPdxT8Mg67WyX4BFib2bNmG4FD0Ln27VbzLDbR5g+Z57qbc0uiAr6Qp+CRscjDrKPzZq3sI9Bgbm3EDyNX1lmek1dYZ/Tlm0ketIAbiAWRAYxOuEKEkaCQdZZJxBAqQxsRUARG8QAjvhxx1+7dq23R36RSE0eh7s+QojMMPvDGea3F/ffZdkZeO1gs3DBfCuGsg19mfHpf721YEG/6F/QYLLRj1dvsc9nrdxiLT3Nq1ew69lEoidNYO3BlcTdfTxZV4iQ4uJi89NPP8X1uljg2CzOioEYQBQQg5Rv8J5w3/mDwmMl1MojhEg/06ZOMY2bNPXWSsF6sXx5aXyhyB0uarn3vIs/loge5+rKJhI9aQJxgStj5cqVMbu2gMEWlwjxHxwjHfitGPQtHwvh4V5M1FImK48QQuQnEj1pBLfRvvvuuytLKhZwybRr187885//9FpSSyKxKrmGK5SYSHA21wcrUSIuMSGEEMFGoieNEM9DLRzic2JxITmXzF/+8hdroUiH2ynfrRgIOt5jogHg7rXpsrIJIcJDLM+SxYu8tVKI6TnyqOAXPxV7MndtaSyPn9rFRTauJ9tI9KQJsq9YLrvsMisyED5lwT5kU7ngW6wOqaQQYlXcNUykrpGsPEJkj57n9DFPP/m4TQ0HMqaI6Uk2ZV1kHgKXF2zYZoOZgRgf4nnmrNpbDGUa1elJE7hYsPS4Ynb++jvhYMBlwHb1ZBBM1IkJNxdXoqR6OougEXoN4yXfr48Q6SQVdXpcvRkHqevJkoo6PTcNusoKMj9kmo0c9ZC3Fj+pqtPToFapsPAz4a13TbuOnby1+ElVnZ4lPUsr+wOZXD2mrPDWEkPFCQNM6ASj1OuhLZyIwfrCgItbxS+KEEqkmMcTCB2JZAVB0Il0DcNBBWVmSWfeK/+8WRwD5NoSIn5SIXrSgSoyx08+V2SWeysNMHhiqfG7WHjOYOyKFvoh0Nm5tPywjlhJBfkeq4JljaDssgQPMPVD27ZtTfv27b2WUrg2o0ePNgceeKApV66cGTp0qLdFCCFEPiDRkwaw6jAAhwoM3FtsQxA5iCGJFHjLzN4ENidLvseqcD25TvFM14HFrV69et5aKdOmTTMff/yx+fDDD+0xR4wYYduEEELkBxI9aYABGMESCiKIgRk3lwPBgxsMkRQKIgWxkmwWV75beXDbxVOT57PPPjNdunSxlhwsOo8/Xuqr79y5s3nxxRetGKJ2EdYgIYQQ+YNETxrAShDJqkI7Agd3DFYfrDDR6smwf7IuLoKp89XKk0hNHmY6nz17tundu7eN6wk3czrCCBBCQggh8gMFMqcYBAqTXBIwHAlifghSPuigg8y5554bdcDmeFiOwg3MhQ4WMIKXuTbhLGWR6NOnjxWBPOK+Gj58uHnrrbe8rcasWrXKnH/++ea5557b5QKbP3++ue+++2zsFTFBQog92bRlh9m8NXiBzLWrlDdrf9pugjbSFVcoMiX/7HULGjUrlzdXzF5jlm0KViDzYbUrmrvb1PHWEkOiJ8W46sZlVTnGxYWlp6yUdARSnTp17H756p5KFILCmzZtGndFaQKVv/nmG/ucTC7E0yOPPGLXETwUlLzjjjv2iPlBHDFTOkj0CLE3CJ6ftwVvOKlRqchsKBEWQRvpyNxC9GzeGrxrVq24yMxYucVs3B4sQVa3pF/t61fy1hJDoifFYMFhkstoxfGcpad+/frm3nvvLdP1xOBOjFBZ9WMipWLnI1jAEknBx2LTsmVLOyfaf/7zH3PGGWeYOXPmmBYtWtjt3bp1swKIdSd0nMjh+oJEjxB7s3TtVvP9+q3eWnA4eL/K5qsVP5vtActZr1OlvBUXXLeg0apEWJw+daVS1kV0iOVhAC6rGjBxKAiYcePGWUHj6sNEAsEzYcIEby0ykVKxAQsGgbtu4M5luF64EBGX8Vq/Zs2aZYYMGWJatWplP4Nnn312l+AhiHnSpElWFBHgfOyxx9p2IYQQ+YFETwrB+lCW4MGVQowO2VSurgwWi2iwD66wWIiUij1q1KgyXWm5AqKR61zWtQ4HcTx33nmnWb16tXVx+S1ibMPw6V/8Vh0mkGURQgiRm0j0pBCmnQiXqu4Hyw4p6s5CEa52Tyjsi0Aqa7b2aKnYDPSpqOycbVxNnnB1jdIJbi/q9rDwXAiRHkYOuda0bVzNfDq7NIYuKJzZ+TDbLxb6GBS4Tq5fQbxuTEXB0q7+3tNlZAOJnhSBy4UBOZr1AUsQlh5/thaCJrR2TzgQSoiqaMSSip3rxFuTJ1WQ3eWsP/5MLyFE6mDQbtMh8Tmj0sVV/XqYDsedbOYs2WiX8X8bYya/Ns7bmj2WLV5gLul5innilbdtv0Y8/JRdDwJ3tK69x9xbQUGiJ0VghUHwRBqMo8Wh4L5ytXsiwT6IpmgwT9d1111nC+vVrFnTa40O1qC6deva5Y033vBagwnXh2sXT00eIUTuwMDd5YxzvLXgMOO9f5rfXH6Nt2bM1UOGm3+MfdZbyx5ffDrHdDz+V+aIo4+x61y7A5q2CIQgO7xORTvJKLOtBwmJnhSBFQZrTCQYsHEvRbIEIYawYkSqvsxgzxIttocsJOJSgKwjF6AbjSeeeMJ8/fXX5qabbjJz5871WoMH1yXSdB1CCJEunLuoUZPm9hH2b3SAWbJwvreWPT6eOX2PfkHjZi3Md8uWemvZgxnVk51VPR1I9KQArDiIkUgF8vzBy5FA0ODmCjchqQNRxXHCQSr2vHnzbJYWgcsjR440gwcP9raWEi4QF3cYgc+1atUyZ599ttcaPBCEkabrEEIIIWJBoicFIHiw4EQKFMatFcuAjdsGARXJjcX2SNuipWIT4BwaiOumWQDcWh06dIjJMpQNeM/ES8mtJYQQIhkkelIA1hfiaMLBgI0oinXAJvg4Uu0e5+IK5wKLlopN30IDcV1/sQo1atTIrgexhk+0WCghhEg3++zXwD4SNOzAfURgc7Zp2LjpHv0C3G6Ht927VpsoRaInBWCFCFctmQE73hnOsRZxrEhuLgKay0pdjxVcYVQkxgJFinsQSaYmjxBCJAsxMwQL/+2xP3stxjw4YlggssxOPu1MG2Tt4o4IYF66aP6uwGaxN5qGIkkQPAiUcBOMMmAT4Bxv6jhi6cgjjww7nQVWHrblS6HBaGAhc9dWVh4hgk2y01BgsejR6VBvbTcTps/dK1g3HlI1DQXp9A6yty4YEL2obFmkahoKhM6QgbtvupO9XpCKaSgmnLCPaVN3z9o8a7bsMIdP/NZbi59UTEMh0ZMkkSYYdcIl3hnAHbjFCN5dsGBP0yUwbxfp6flQbDASXD9qFxELFc6KJoQIFpp7Kz4091b8aO6tAEA8TzjXC3Eorv5OIrjXhptBPJaaPbkOLjysOxI8QgghUoVETxLg2sIiESp6cMswaCdbUwb3FuIpNHCZqS6IFcpXVJNHCCFEOpDoSQLETThLBEIlnuDlSPB6hE9oUDOWHgiXxZUoCDj6TK0e0tcbN25sg5t5ZJ12trNfulFNHiGEEOlAoicJwk0w6qaSSFVNGUQV1qTQjK1UuLg2bdpkBRrp6r169TIbN2405557ri2SOH36dLN161b7yDrtbGc/xAiv4/WphveEmFNNHiGEEKlGgcwJghAhoJhAY2fRccHL4bKuksFlbJHF5IKXEQe4gAhoTgSmn7j11lttynq/fv3sTOyxQm0fih++9tprVvxceuml3pbkcNeU4G+lqAuRWyiQOT4UyBw/yt7KIogOgpj96egEHTPNA5aRVOPm5XLncwLBL4RigekqLr74Yuu6QrAce+yx3pb4ef/9963Li6/Qk08+mXRFZ94jpOP6CSHSy9btO822gAkLqFShyGzZvqPkd8prCAjli8qZkn/2ugWNShXKmUUbt5stAfs8q5YvZxpXq+CtJYZET4K4dGp/fM2JJ56YtlRyZ0VCELhzEuuDaypWVxBTVfTu3dsMHDjQXH/99V5r8tx7773m4YcfNmPHjjXt2rXzWuNDNXmEyG3W/7zdbNqyw1sLDvWqVjBrNm8zQdNjlUvEWMWSQZzrFjTqVKlgekxdYRYGzNJzdL1i80wnWXoyTjgrCyIIARIuxTxVIAw4jytMGM7aFAnm10LwPPTQQ3sFRqcCXHpXXXWVFT7+KTBigeupmjxC5Dbrf9puNgZQ9NSvVsGs3hRA0VPREz0l1y1o1C0Riqe884Pq9IhSEB+IHX98DVlN6Q6+Jc6FxbmBeE5fEA3R+PLLL80555xjXnzxxbQIHuC4HJ/zcL54IPhbNXmEEEKkG4meBCBrq0ePHvY5goPYGNxOmXDLYFEhkwuRxfliyeK67LLL7Ozq3bt391rSA8fnPJwvVnALYq1STR4hhBDpRqInARAZziqBlQKLj4uzSTcIHYQP7iAgZX7ChAn2eTiuvPJK06pVK3PNNdd4LemF8xx44IH2vLGgmjxCCD83DbrKNKhVbGbNmO61BIOORxxk+8VCH4PEww/cZ/v16stjvZZg8Hn3BmZJz0Z24XkQkOiJE2dhQehky0qBwKIPWHx4josrHDNnzrRp5aNHj/ZaMsOYMWPseTl/NOg/11A1eYQQwMDdoVPiGaXp4rye3c3xJ51ivl27xS5PP/l4YAQGYgyaNU8uezbVMOFoneIi0/iVZabX1BX2OW3ZRqInTrDyuBoyuLWyZaUgeBkrCe41BFho8UIYNWqUGTRokKlYsaLXkhk4H+fl/JGg3/Q/U25BIUTwQVCc2au3txYcpvxrshlw9SBvzZhht48wLz33jLeWXWZ8+l8z8NrB3lpwaFO32Hy8eot9PmvlFjvDevPqyaWbpwKJnjjBlYRLCesKS7asFAgdXEkIBx6JM/IzY8YM8+GHH2atf5yX89OPcCAYcRGqCKEQIsg4N1vTZs3tIzRq3MQsnP+NtyZCuahlde/Zbn4sET1Ye7KNRE8c4NrCHYNLiUEbt1Y2rRSkx9MnLCsumJn+weOPP26tLdmE89OPUBCL9FfBy0IIITKJRE8cMFhjmXDzawUhxZqgZoKGEV8IICw/p556qo2pSXe2Vllw/smTJ3trpfjdWosWLTJ169Y199xzj93GI5WiP/vsM7suhBBCpBKJHo/777/fHHfccVY8sPCcNj+4kJht3Fl5sg0CgngihFjVqlXtXFyAW2nfffc1LVu2tOvZgvPXr1/f9sfhz3Yj0Jk5vN555x277YYbbrCvocijEEIEgf0aNLSPixYusI+wbMliG9gswjN3bWksj5/axUU2rifbFLzowdrA1AlYGZhLirmzWHhOG9vYB4GBJYVZx4MSi4Iri8rQuJE2bNhgXn75ZSt+eJ5tK4+jS5cuZtKkSfZ5aLZb//79Tfv27XdtZ16w4cOH2+dCCBEEiOU54eQu5tEHdydmDL9tSCCzzIICgcsLNmyzwcxAjA/xPHNW7S2GMk3Bi54LLrjAfPzxx+aHH37wWnZDG9vYB9fWAQccYN58883AxKKcd9551irFtA/MdL5582bzzTffmGrVqpkOHTp4e2UX+uHcVVRtDs12q1evnrXurFq1yrz99tumT58+tp1HXF24v+TuEiL/wZLi6uBAj24n2ud+C0u2eOGViTZN3fWP7K2gZJm5Pi1cMN8MuKiffR6EGkfHTf7ePlKj5/bWtWwm10UzVtm2bFIQogeXCsX8XJCvA/cVA+r27ZHnPmEb+9xyyy3mu+++s5lS2Qxe9vOf//zH/OIXv7CWHfpXVFSipOfMsdv2228/+5ht6Mf333+/Kw4qXDZZ27ZtreCpVauW11Lqulu5cqUZMGDALkuQECJ/waLi6uD4F3/WVDbx9ylIKeL+frmlXcdO3tbsQo0et/SYssJrzS4FIXoYaEkzxxVEEK0DdxCurLJgn6+++srGpwRtfqi33nrLTnx66KGHmi1btpgdO3ZYobb//vt7e2QX+rF8+XIbbxQp261NmzY2m8tZeYD3BUyu2rVrV/tcCCGESIaMiZ5p06ZZdwWzfRO7wVQFTFCZKRA+TCiPBYF+UMwvnokxt27daubOnWuFU506dTKycK5YFqxYWHscGzduDJToWbp0qQ1cjhQHhQXu5ptv9tZK4fuCyJw9e7bXIoQQQiRHuRIhkJEJ9wkKbtKkib2jJ07jjjvusPEc4cAVQsBrJBAuZVHWPmwvLi621pFYwHVE3EmmiOU9OtiXjDLijrCmDBs2zKxYscJUqVLF2yN7rF+/3gqfZcuWhbXyIHyxpBHU7Gfo0KHmzjvvtHV+cC8+8sgj3hYhRBBZ/9N2szEA2Tmh1K9WwazetM3syMhIFzuVKxaZiuXL2esWNOpWrWBOeecHM3/DNq8lGHSoX8mMO66+t5YYGRM9gIWHoFViNZzgwfJz9dVXm3nz5tn4DQY3BvHQ+Bs/scTUhNvHiQNXGO/555+P2ZJw0EEH2RiaoIHQIUCYNHBq3xAkjBWN+jgtWmR/Lpavv/7a1g0iwNoPAhJLzpAhQ6y4CQXRw4ztfF9wQyqNXYhgI9ETHxI98ZNzooc7dgZlBI4bkLEAEY9C6jKDYLq6gzggngcxREE/RAKBzFicyorrIcCWQOHrrrvOawkGVGRmWgwEHO4jR+fOnc3dd99tOnXKfjAbqf+4rnBXCSHyl63bd9olaCAuft62o2Rs8RoCQvmicqbkXyCvWaUKRea1ZZvMuq3B6tt+lcubbg0re2uJkTHRg+C566677HMG6MWLF9tidA4GRSwv6XBjOHdZqDgAApypvRMpg6t8+fJWPITObRUUsF6FWrV69epl09kppJhtxo8fb1544QVrrRFC5C8rN24zP24OntWiSe1is3TdVrMjYKae6pWKTOUK5UquW/CuWcOaFc0dX6wz3wXs8/xFSb9uOrSmt5YYGRE9WHPGjRtnM3KoznvaaadZCwAWCejWrZuZNWuWdW+Fc3WkgnDiACg8eM4559jH0Fo9VDVu2rSp7TuPucIf//hHs27dOnPfffd5Ldlj8ODBpmbNmubWW2/1WoQQ+cjStVvN9+u3emvB4eD9KpuvVvxstgdM9NSpUt5UKy6y1y1otKpfyZw+daXcW+mAQNZf/vKXtvAfLq5sxaLg6sJV9Pnnn9v1ww8/3PTo0SNwLq1YQFhSrNC9l2zCdRwzZoz9bIUQ+YtET3xI9MRPKkRP1uv0IHhwxxDPc+6552Yt+BZxM3XqVGsRYuF5LgoeQGAQLE7sVDbh/PRDgkcIIUQQyLroISuHzB4MTulybRUizHk1ceJEby07cH76IYQQsTJyyLWmbeNq5tPZH3gtwWDZ4gW2X1f16+G1BAOuE/1yS5Cu2+fdG9hpKFh4HgQKoiJzIULdm1Gjdk+Qlw04f2j9HSGEiASDdpsOwZhCwc8zj/7JDOx7hrl6SLAmREaIXdLzFPPEK2+bOUs2mhEPP2XXg8CEE/axk4wyBUWvqSvsc9qyjURPntKxY0frVnJzXmUazsv56YcQQsQCA3eXM87x1oLDBQN+b16d9m9vLTh88ekc0/H4X5kjjj7GrnPtDmjawkx+bZxdzybMsM4ko8Cs62u27DDNq1ew69lEoiePGTRokLW2MIVGJuF8nJfzCyGESA8fz5xuGjXZc0LWxs1amO+WLfXWssNFLat7z3bzY4nowdqTbSR68pgOHTqYM844w2ZyZZLLLrvMnpfzCyGEEEFBoifP+ctf/mIDxZnlPBNwHqae4LxCCCFEkJDoKQBGjx5t57hKdzYXx+c8nE8IIUR6adi4qQ1m9rNk4XxzeNvslgmZu3bvibxrFxfZuJ5sI9FTABx88MG2qnSfPn3svGPpgONyfM7D+YQQQqSXk08708x475+70tQJYF66aP6uwOZsQeDygg3bbDAzEONDPM+cVXuLoUyT9YrMInMw1Ufv3r3NwIEDzfXXX++1Js+9995rHn74YTN27FjTrl07r1UIUUgkW5EZi0WPTod6a7uZMH3uXsG68ZCKiszUDhr/tzHeWiln/+ZSc9OIxLNjU1WRGaEzZOCF3lry1wtSVZGZ+jwOMrl6TFnhrSVGXkxDITLL/PnzzcUXX2zKlStnbr/9dnPsscd6W+KH+dOYxJWv0JNPPpm1atpCiOyjaSjiQ9NQxE9eTEMhMgvC5N1337WzsDPtx+WXX25nuI8H9ud1vL5v3772eBI8Qgghgo4sPQXMpk2bzB133GEDkHl+1lln2YKCTP7aqFEj07BhQ7N8+XKzbNkys3TpUjuR6d///ndTvXp107NnT+siq1q1qnc0IUQhI0tPfMjSEz9yb4mkmDJlivnd735ng5Br165tBc0XX3xhBY4TOk4A8XjIIYdYYXTEEUd4RxBCiFIkeuJDoid+JHpEQjCL/O9//3vz1FNP2XVEz4UX7g6EE0KIeJHoiQ+JnviR6BFxg9AhgPmaa64xTz/9tBVAPL/22mu9PYQQIn5Wbdpm1m7e7q0FhwNqF5vl67aaHQETPQieyhWK7HULGg1qVjQjv1xvfvgpWJ9nq5oVzKBf1vTWEkOip4DAuoNLC8vOwoULbfXk448/3m77wx/+YB+FECIRtmzfabaWLEGjSsUi89PWHSZoPatQVM6U/LPXLWggxsYu3mjWbglW3xpWKW/OaFzFW0sMiZ4CAqsOEL9z4oknWgsP4mfRokXmT3/6k90mhBCJsP6n7WZjACruhlK/WgWzetM2EzBDj6lcIsYqli9nr1vQqFu1gjnlnR+Usi5yG8QOy6uvvmoF0JlnnmmaNWtmhY8QQgiR70j0FCC4tbDyAKKndevW9rkQQgiRz0j0FBjOyuOytUg/VzyPECIo3DToKtOgVrGZNWO61xIMFi1cYPt1Xs/uXktwePiB+2zfXn15rNcSHJiKgqVd/dJ5uLKNRE+B4bfyCCFEkGDg7tAp8alx0gWios+Zp5pht4/wWoJDxyMOso/NmgerKv4drWvvMfdWUJDoKSBCrTxCCBEkvl27xZzZq7e3FhwGXjvYzPj0v95asKBf9C9oHF6nop1klNnWg4RETwEhK48QQohMwIzqyc6qng4kegoErDxkaZGxJYQQQhQiEj0FAlae2267zaasCyGEEIWIRE8BICuPEEIIIdFTEMjKI4QQQmgaioLAP/2EEEKkg2SnoaAOTofWv/DWdjPzs69M02bNvbX4ScU0FNQOevrJx721Un57cX8zctRD3lr8pGoaCtL8Q5nw1rumXcdO3lr8pGIaigkn7GPa1N2zb2tKvh+HT/zWW4sfzbIuhBAiEGjurfjQ3Fvxo7m3xC7uueceU65cOfPGG294LUIIIYTwI9GTJ9xwww2mbdu2pn379l7LblatWmWGDh1qhZEQQghRqEj05BFr1qwx9erV89ZKmTZtmhk1apTdJoQQQhQyEj15wmeffWa6dOliLTq4uR5/vDTornPnzubOO++0s6kLIYQQhYxET54wc+ZMM3v2bNO7d2/z+uuvm7///e/eFiGESD8l91qmKIALhGvP9sL1Cuo1K/ln6hQXmfqVgrXUKulTsih7K0/o06ePLT7IIy6t4cOHm7feesvbWhroDMT+ONj3pZdeMnXq1DHvvvuuad26tbdFCCGEyD9k6ckT5syZY0UMfPDBB6ZFixb2eTSo37Ny5UozYMAAM2nSJK9VCCGEyE8kevKA+fPnm3nz5tksLaw8I0eONIMHD/a2lrJ27Vq7+HGWIIKcu3btap8LIYQQ+YpETx4wa9YsM2TIENOqVStz4YUXmmeffXaXpYcA527dupkRI0bYhee0AQKpfv36NhZICCGEyHcU01PAkOlFZheZXgihRx55xNsihBBC5B+y9BQ4pLffe++9pn///l6LEEIIkZ/I0iOEEEKIgkCWHiGEEEIUBBI9QgghhCgIJHqEEEIIURBI9AghhBCiIJDoEUIIIURBINEjhBBCiIJAokcIIYQQBYFEjxBCCCEKAGP+P76RESf1GEvGAAAAAElFTkSuQmCC)"
      ],
      "metadata": {
        "id": "EZnsPSXLLJjb"
      }
    },
    {
      "cell_type": "code",
      "source": [
        "# inputs\n",
        "x = np.array([[0, 0, 0],\n",
        "              [0, 0, 1],\n",
        "              [0, 1, 0],\n",
        "              [0, 1, 1],\n",
        "              [1, 0, 0],\n",
        "              [1, 0, 1],\n",
        "              [1, 1, 0],\n",
        "              [1, 1, 1]])\n",
        "\n",
        "#correct answers (labels)\n",
        "t = np.array([[0],\n",
        "              [1],\n",
        "              [1],\n",
        "              [0],\n",
        "              [1],\n",
        "              [0],\n",
        "              [0],\n",
        "              [1]])\n",
        "\n",
        "#model\n",
        "input_size = x.shape[1]\n",
        "hidden_size = 3         # hyper parameter\n",
        "output_size = t.shape[1]\n",
        "net = Model2(input_size, hidden_size, output_size)  # neural network model\n",
        "optimizer = SGD(learning_rate = 0.1)                # for update parameters\n",
        "\n",
        "Epoch = 5000    # the number of training\n",
        "loss = []       # for recording loss values at each epoch\n",
        "\n",
        "#learning process\n",
        "for i in range(Epoch):\n",
        "    l = net.loss(x, t)                  # forward calculation\n",
        "    net.backward()                      # backward propagation\n",
        "    optimizer.update(net.get_layers())  # update parameters\n",
        "    loss.append(l)                      # record current loss\n",
        "\n",
        "# draw the loss graph\n",
        "plt.plot(loss)\n",
        "plt.ylabel(\"Loss\")\n",
        "plt.show()\n",
        "\n",
        "y = net.predict(x)\n",
        "print(\"y=\\n\", y, \"\\n\")"
      ],
      "metadata": {
        "id": "9yEvGHuCLTrB",
        "outputId": "88b7cb97-b259-4e49-af90-ffe848684b51",
        "colab": {
          "base_uri": "https://localhost:8080/",
          "height": 616
        }
      },
      "execution_count": null,
      "outputs": [
        {
          "output_type": "display_data",
          "data": {
            "text/plain": [
              "<Figure size 640x480 with 1 Axes>"
            ],
            "image/png": "[encoded data removed]"
          },
          "metadata": {}
        },
        {
          "output_type": "stream",
          "name": "stdout",
          "text": [
            "y=\n",
            " [[0.0516]\n",
            " [0.9183]\n",
            " [0.8582]\n",
            " [0.13  ]\n",
            " [0.8489]\n",
            " [0.1213]\n",
            " [0.0754]\n",
            " [0.9577]] \n",
            "\n"
          ]
        }
      ]
    },
    {
      "cell_type": "markdown",
      "source": [
        "## 🤔 **Exercise 4.5**\n",
        "\n",
        "Create a two-category (binary) classification problem by removing one category from the Iris dataset. Make and train neural network model and find the accuracy.\n"
      ],
      "metadata": {
        "id": "LMcbgZJayVhk"
      }
    },
    {
      "cell_type": "code",
      "source": [
        "#import datasets\n",
        "from sklearn.datasets import load_iris\n",
        "\n",
        "iris = load_iris()  #load dataset\n",
        "\n",
        "df_iris = pd.DataFrame(data = iris.data, columns = iris.feature_names)\n",
        "df_iris[\"target\"] = iris.target\n",
        "\n",
        "df_iris = df_iris.query(\"target != 2\")  # drop target == 2 (Iris-Virginica)\n",
        "display(df_iris)"
      ],
      "metadata": {
        "id": "S-COh9SbqBEi",
        "outputId": "34acaea9-b72c-4c1a-ddcf-3ac5f9d2b8a1",
        "colab": {
          "base_uri": "https://localhost:8080/",
          "height": 433
        }
      },
      "execution_count": null,
      "outputs": [
        {
          "output_type": "display_data",
          "data": {
            "text/plain": [
              "    sepal length (cm)  sepal width (cm)  petal length (cm)  petal width (cm)  \\\n",
              "0                 5.1               3.5                1.4               0.2   \n",
              "1                 4.9               3.0                1.4               0.2   \n",
              "2                 4.7               3.2                1.3               0.2   \n",
              "3                 4.6               3.1                1.5               0.2   \n",
              "4                 5.0               3.6                1.4               0.2   \n",
              "..                ...               ...                ...               ...   \n",
              "95                5.7               3.0                4.2               1.2   \n",
              "96                5.7               2.9                4.2               1.3   \n",
              "97                6.2               2.9                4.3               1.3   \n",
              "98                5.1               2.5                3.0               1.1   \n",
              "99                5.7               2.8                4.1               1.3   \n",
              "\n",
              "    target  \n",
              "0        0  \n",
              "1        0  \n",
              "2        0  \n",
              "3        0  \n",
              "4        0  \n",
              "..     ...  \n",
              "95       1  \n",
              "96       1  \n",
              "97       1  \n",
              "98       1  \n",
              "99       1  \n",
              "\n",
              "[100 rows x 5 columns]"
            ],
            "text/html": [
              "\n",
              "\n",
              "  <div id=\"df-5644a592-e5d7-42c9-9f01-92b35aea6127\">\n",
              "    <div class=\"colab-df-container\">\n",
              "      <div>\n",
              "<style scoped>\n",
              "    .dataframe tbody tr th:only-of-type {\n",
              "        vertical-align: middle;\n",
              "    }\n",
              "\n",
              "    .dataframe tbody tr th {\n",
              "        vertical-align: top;\n",
              "    }\n",
              "\n",
              "    .dataframe thead th {\n",
              "        text-align: right;\n",
              "    }\n",
              "</style>\n",
              "<table border=\"1\" class=\"dataframe\">\n",
              "  <thead>\n",
              "    <tr style=\"text-align: right;\">\n",
              "      <th></th>\n",
              "      <th>sepal length (cm)</th>\n",
              "      <th>sepal width (cm)</th>\n",
              "      <th>petal length (cm)</th>\n",
              "      <th>petal width (cm)</th>\n",
              "      <th>target</th>\n",
              "    </tr>\n",
              "  </thead>\n",
              "  <tbody>\n",
              "    <tr>\n",
              "      <th>0</th>\n",
              "      <td>5.1</td>\n",
              "      <td>3.5</td>\n",
              "      <td>1.4</td>\n",
              "      <td>0.2</td>\n",
              "      <td>0</td>\n",
              "    </tr>\n",
              "    <tr>\n",
              "      <th>1</th>\n",
              "      <td>4.9</td>\n",
              "      <td>3.0</td>\n",
              "      <td>1.4</td>\n",
              "      <td>0.2</td>\n",
              "      <td>0</td>\n",
              "    </tr>\n",
              "    <tr>\n",
              "      <th>2</th>\n",
              "      <td>4.7</td>\n",
              "      <td>3.2</td>\n",
              "      <td>1.3</td>\n",
              "      <td>0.2</td>\n",
              "      <td>0</td>\n",
              "    </tr>\n",
              "    <tr>\n",
              "      <th>3</th>\n",
              "      <td>4.6</td>\n",
              "      <td>3.1</td>\n",
              "      <td>1.5</td>\n",
              "      <td>0.2</td>\n",
              "      <td>0</td>\n",
              "    </tr>\n",
              "    <tr>\n",
              "      <th>4</th>\n",
              "      <td>5.0</td>\n",
              "      <td>3.6</td>\n",
              "      <td>1.4</td>\n",
              "      <td>0.2</td>\n",
              "      <td>0</td>\n",
              "    </tr>\n",
              "    <tr>\n",
              "      <th>...</th>\n",
              "      <td>...</td>\n",
              "      <td>...</td>\n",
              "      <td>...</td>\n",
              "      <td>...</td>\n",
              "      <td>...</td>\n",
              "    </tr>\n",
              "    <tr>\n",
              "      <th>95</th>\n",
              "      <td>5.7</td>\n",
              "      <td>3.0</td>\n",
              "      <td>4.2</td>\n",
              "      <td>1.2</td>\n",
              "      <td>1</td>\n",
              "    </tr>\n",
              "    <tr>\n",
              "      <th>96</th>\n",
              "      <td>5.7</td>\n",
              "      <td>2.9</td>\n",
              "      <td>4.2</td>\n",
              "      <td>1.3</td>\n",
              "      <td>1</td>\n",
              "    </tr>\n",
              "    <tr>\n",
              "      <th>97</th>\n",
              "      <td>6.2</td>\n",
              "      <td>2.9</td>\n",
              "      <td>4.3</td>\n",
              "      <td>1.3</td>\n",
              "      <td>1</td>\n",
              "    </tr>\n",
              "    <tr>\n",
              "      <th>98</th>\n",
              "      <td>5.1</td>\n",
              "      <td>2.5</td>\n",
              "      <td>3.0</td>\n",
              "      <td>1.1</td>\n",
              "      <td>1</td>\n",
              "    </tr>\n",
              "    <tr>\n",
              "      <th>99</th>\n",
              "      <td>5.7</td>\n",
              "      <td>2.8</td>\n",
              "      <td>4.1</td>\n",
              "      <td>1.3</td>\n",
              "      <td>1</td>\n",
              "    </tr>\n",
              "  </tbody>\n",
              "</table>\n",
              "<p>100 rows × 5 columns</p>\n",
              "</div>\n",
              "      <button class=\"colab-df-convert\" onclick=\"convertToInteractive('df-5644a592-e5d7-42c9-9f01-92b35aea6127')\"\n",
              "              title=\"Convert this dataframe to an interactive table.\"\n",
              "              style=\"display:none;\">\n",
              "\n",
              "  <svg xmlns=\"http://www.w3.org/2000/svg\" height=\"24px\"viewBox=\"0 0 24 24\"\n",
              "       width=\"24px\">\n",
              "    <path d=\"M0 0h24v24H0V0z\" fill=\"none\"/>\n",
              "    <path d=\"M18.56 5.44l.94 2.06.94-2.06 2.06-.94-2.06-.94-.94-2.06-.94 2.06-2.06.94zm-11 1L8.5 8.5l.94-2.06 2.06-.94-2.06-.94L8.5 2.5l-.94 2.06-2.06.94zm10 10l.94 2.06.94-2.06 2.06-.94-2.06-.94-.94-2.06-.94 2.06-2.06.94z\"/><path d=\"M17.41 7.96l-1.37-1.37c-.4-.4-.92-.59-1.43-.59-.52 0-1.04.2-1.43.59L10.3 9.45l-7.72 7.72c-.78.78-.78 2.05 0 2.83L4 21.41c.39.39.9.59 1.41.59.51 0 1.02-.2 1.41-.59l7.78-7.78 2.81-2.81c.8-.78.8-2.07 0-2.86zM5.41 20L4 18.59l7.72-7.72 1.47 1.35L5.41 20z\"/>\n",
              "  </svg>\n",
              "      </button>\n",
              "\n",
              "\n",
              "\n",
              "    <div id=\"df-2ca0b10f-0d1d-486e-b16e-025333b9667e\">\n",
              "      <button class=\"colab-df-quickchart\" onclick=\"quickchart('df-2ca0b10f-0d1d-486e-b16e-025333b9667e')\"\n",
              "              title=\"Suggest charts.\"\n",
              "              style=\"display:none;\">\n",
              "\n",
              "<svg xmlns=\"http://www.w3.org/2000/svg\" height=\"24px\"viewBox=\"0 0 24 24\"\n",
              "     width=\"24px\">\n",
              "    <g>\n",
              "        <path d=\"M19 3H5c-1.1 0-2 .9-2 2v14c0 1.1.9 2 2 2h14c1.1 0 2-.9 2-2V5c0-1.1-.9-2-2-2zM9 17H7v-7h2v7zm4 0h-2V7h2v10zm4 0h-2v-4h2v4z\"/>\n",
              "    </g>\n",
              "</svg>\n",
              "      </button>\n",
              "    </div>\n",
              "\n",
              "<style>\n",
              "  .colab-df-quickchart {\n",
              "    background-color: #E8F0FE;\n",
              "    border: none;\n",
              "    border-radius: 50%;\n",
              "    cursor: pointer;\n",
              "    display: none;\n",
              "    fill: #1967D2;\n",
              "    height: 32px;\n",
              "    padding: 0 0 0 0;\n",
              "    width: 32px;\n",
              "  }\n",
              "\n",
              "  .colab-df-quickchart:hover {\n",
              "    background-color: #E2EBFA;\n",
              "    box-shadow: 0px 1px 2px rgba(60, 64, 67, 0.3), 0px 1px 3px 1px rgba(60, 64, 67, 0.15);\n",
              "    fill: #174EA6;\n",
              "  }\n",
              "\n",
              "  [theme=dark] .colab-df-quickchart {\n",
              "    background-color: #3B4455;\n",
              "    fill: #D2E3FC;\n",
              "  }\n",
              "\n",
              "  [theme=dark] .colab-df-quickchart:hover {\n",
              "    background-color: #434B5C;\n",
              "    box-shadow: 0px 1px 3px 1px rgba(0, 0, 0, 0.15);\n",
              "    filter: drop-shadow(0px 1px 2px rgba(0, 0, 0, 0.3));\n",
              "    fill: #FFFFFF;\n",
              "  }\n",
              "</style>\n",
              "\n",
              "    <script>\n",
              "      async function quickchart(key) {\n",
              "        const containerElement = document.querySelector('#' + key);\n",
              "        const charts = await google.colab.kernel.invokeFunction(\n",
              "            'suggestCharts', [key], {});\n",
              "      }\n",
              "    </script>\n",
              "\n",
              "      <script>\n",
              "\n",
              "function displayQuickchartButton(domScope) {\n",
              "  let quickchartButtonEl =\n",
              "    domScope.querySelector('#df-2ca0b10f-0d1d-486e-b16e-025333b9667e button.colab-df-quickchart');\n",
              "  quickchartButtonEl.style.display =\n",
              "    google.colab.kernel.accessAllowed ? 'block' : 'none';\n",
              "}\n",
              "\n",
              "        displayQuickchartButton(document);\n",
              "      </script>\n",
              "      <style>\n",
              "    .colab-df-container {\n",
              "      display:flex;\n",
              "      flex-wrap:wrap;\n",
              "      gap: 12px;\n",
              "    }\n",
              "\n",
              "    .colab-df-convert {\n",
              "      background-color: #E8F0FE;\n",
              "      border: none;\n",
              "      border-radius: 50%;\n",
              "      cursor: pointer;\n",
              "      display: none;\n",
              "      fill: #1967D2;\n",
              "      height: 32px;\n",
              "      padding: 0 0 0 0;\n",
              "      width: 32px;\n",
              "    }\n",
              "\n",
              "    .colab-df-convert:hover {\n",
              "      background-color: #E2EBFA;\n",
              "      box-shadow: 0px 1px 2px rgba(60, 64, 67, 0.3), 0px 1px 3px 1px rgba(60, 64, 67, 0.15);\n",
              "      fill: #174EA6;\n",
              "    }\n",
              "\n",
              "    [theme=dark] .colab-df-convert {\n",
              "      background-color: #3B4455;\n",
              "      fill: #D2E3FC;\n",
              "    }\n",
              "\n",
              "    [theme=dark] .colab-df-convert:hover {\n",
              "      background-color: #434B5C;\n",
              "      box-shadow: 0px 1px 3px 1px rgba(0, 0, 0, 0.15);\n",
              "      filter: drop-shadow(0px 1px 2px rgba(0, 0, 0, 0.3));\n",
              "      fill: #FFFFFF;\n",
              "    }\n",
              "  </style>\n",
              "\n",
              "      <script>\n",
              "        const buttonEl =\n",
              "          document.querySelector('#df-5644a592-e5d7-42c9-9f01-92b35aea6127 button.colab-df-convert');\n",
              "        buttonEl.style.display =\n",
              "          google.colab.kernel.accessAllowed ? 'block' : 'none';\n",
              "\n",
              "        async function convertToInteractive(key) {\n",
              "          const element = document.querySelector('#df-5644a592-e5d7-42c9-9f01-92b35aea6127');\n",
              "          const dataTable =\n",
              "            await google.colab.kernel.invokeFunction('convertToInteractive',\n",
              "                                                     [key], {});\n",
              "          if (!dataTable) return;\n",
              "\n",
              "          const docLinkHtml = 'Like what you see? Visit the ' +\n",
              "            '<a target=\"_blank\" href=https://colab.research.google.com/notebooks/data_table.ipynb>data table notebook</a>'\n",
              "            + ' to learn more about interactive tables.';\n",
              "          element.innerHTML = '';\n",
              "          dataTable['output_type'] = 'display_data';\n",
              "          await google.colab.output.renderOutput(dataTable, element);\n",
              "          const docLink = document.createElement('div');\n",
              "          docLink.innerHTML = docLinkHtml;\n",
              "          element.appendChild(docLink);\n",
              "        }\n",
              "      </script>\n",
              "    </div>\n",
              "  </div>\n"
            ]
          },
          "metadata": {}
        }
      ]
    },
    {
      "cell_type": "code",
      "source": [
        "# inputs\n",
        "x = df_iris[[\"sepal length (cm)\",\n",
        "             \"sepal width (cm)\",\n",
        "             \"petal length (cm)\",\n",
        "             \"petal width (cm)\"]].to_numpy()\n",
        "\n",
        "# targets  (labels)\n",
        "t = df_iris[[\"target\"]].to_numpy()\n",
        "\n",
        "#model\n",
        "\n",
        "input_size = x.shape[1]\n",
        "hidden_size = 2         # hyper parameter\n",
        "output_size = t.shape[1]\n",
        "net = Model2(input_size, hidden_size, output_size)  # neural network model\n",
        "optimizer = SGD(learning_rate = 0.1)                # for update parameters\n",
        "\n",
        "Epoch = 5000    # the number of training\n",
        "loss = []       # for recording loss values at each epoch\n",
        "\n",
        "#learning process\n",
        "for i in range(Epoch):\n",
        "    l = net.loss(x, t)                  # forward calculation\n",
        "    net.backward()                      # backward propagation\n",
        "    optimizer.update(net.get_layers())  # update parameters\n",
        "    loss.append(l)                      # record current loss\n",
        "\n",
        "# draw the loss graph\n",
        "plt.plot(loss)\n",
        "plt.ylabel(\"Loss\")\n",
        "plt.show()\n",
        "\n",
        "y = net.predict(x)\n",
        "\n",
        "# calculate accuracy\n",
        "prediction = y > 0.5    # if y is grater than 0.5, the prediction will be 1, otherwise 0.\n",
        "accuracy = np.sum(prediction == t) / t.shape[0]\n",
        "\n",
        "print(\"\\nAccuracy:\")\n",
        "print(accuracy)"
      ],
      "metadata": {
        "id": "0vdcLr_Xw1x5",
        "outputId": "f0f58c23-2ae8-4e82-82f7-5a58b6872495",
        "colab": {
          "base_uri": "https://localhost:8080/",
          "height": 500
        }
      },
      "execution_count": null,
      "outputs": [
        {
          "output_type": "display_data",
          "data": {
            "text/plain": [
              "<Figure size 640x480 with 1 Axes>"
            ],
            "image/png": "[encoded data removed]"
          },
          "metadata": {}
        },
        {
          "output_type": "stream",
          "name": "stdout",
          "text": [
            "\n",
            "Accuracy:\n",
            "1.0\n"
          ]
        }
      ]
    },
    {
      "cell_type": "markdown",
      "source": [
        "## 🤔 **Exercise 4.6 (Optional)**\n",
        "\n",
        "Breast cancer wisconsin dataset is a binary classification problem dataset that predicts whether a person has breast cancer from 30 types of features. Make and train neural network model and find the accuracy.\n"
      ],
      "metadata": {
        "id": "mQ_PnlFm3gcT"
      }
    },
    {
      "cell_type": "code",
      "source": [
        "#import datasets\n",
        "from sklearn.datasets import load_breast_cancer\n",
        "\n",
        "cancer = load_breast_cancer()  #load dataset\n",
        "print(cancer.DESCR)"
      ],
      "metadata": {
        "id": "p4n0zNb42ErF"
      },
      "execution_count": null,
      "outputs": []
    },
    {
      "cell_type": "code",
      "source": [
        "df_cancer = pd.DataFrame(data = cancer.data, columns = cancer.feature_names)\n",
        "df_cancer[\"target\"] = cancer.target\n",
        "display(df_cancer)\n",
        "\n",
        "df_cancer[\"target\"].value_counts()"
      ],
      "metadata": {
        "id": "qDBlwaMc2xSI"
      },
      "execution_count": null,
      "outputs": []
    }
  ]
}